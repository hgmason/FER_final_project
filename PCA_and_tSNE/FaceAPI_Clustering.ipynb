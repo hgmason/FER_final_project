{
  "cells": [
    {
      "cell_type": "code",
      "execution_count": null,
      "id": "approximate-replication",
      "metadata": {
        "id": "approximate-replication"
      },
      "outputs": [],
      "source": [
        "import matplotlib.pyplot as plt\n",
        "import pandas as pd"
      ]
    },
    {
      "cell_type": "code",
      "execution_count": null,
      "id": "described-specialist",
      "metadata": {
        "id": "described-specialist"
      },
      "outputs": [],
      "source": [
        "import sys\n",
        "import os\n",
        "import dlib\n",
        "import glob\n",
        "\n",
        "# if len(sys.argv) != 3:\n",
        "#     print(\n",
        "#         \"Give the path to the trained shape predictor model as the first \"\n",
        "#         \"argument and then the directory containing the facial images.\\n\"\n",
        "#         \"For example, if you are in the python_examples folder then \"\n",
        "#         \"execute this program by running:\\n\"\n",
        "#         \"    ./face_landmark_detection.py shape_predictor_68_face_landmarks.dat ../examples/faces\\n\"\n",
        "#         \"You can download a trained facial shape predictor from:\\n\"\n",
        "#         \"    http://dlib.net/files/shape_predictor_68_face_landmarks.dat.bz2\")\n",
        "#     exit()\n",
        "\n"
      ]
    },
    {
      "cell_type": "code",
      "source": [
        "directory = '/content/drive/My Drive/PhD Work/FerPlusData/FER_Ground_Truth_Labelled'"
      ],
      "metadata": {
        "id": "PnIH5vf98Eiq"
      },
      "id": "PnIH5vf98Eiq",
      "execution_count": null,
      "outputs": []
    },
    {
      "cell_type": "code",
      "execution_count": null,
      "id": "recorded-fleet",
      "metadata": {
        "id": "recorded-fleet"
      },
      "outputs": [],
      "source": [
        "for filename in os.listdir(directory):\n",
        "    f = os.path.join(directory, filename)\n",
        "    for filename2 in os.listdir(directory+ '/' +filename):\n",
        "        print(\"\\\"%s\\\"\"% filename2 + \": { \" + \"\\\"%s\\\"\"% \"Landmarks\"  + \": [],\" + \"\\\"%s\\\"\"% \"Labels\" + \": []},\" )"
      ]
    },
    {
      "cell_type": "code",
      "execution_count": null,
      "id": "perfect-indie",
      "metadata": {
        "id": "perfect-indie"
      },
      "outputs": [],
      "source": [
        "#Create a dictionary\n",
        "dict = {\"CIRVR19 (126).jpg\": { \"Landmarks\": [],\"Labels\": []},\n",
        "\"CIRVR19 (1374).jpg\": { \"Landmarks\": [],\"Labels\": []},\n",
        "\"CIRVR19 (1402).jpg\": { \"Landmarks\": [],\"Labels\": []},\n",
        "\"CIRVR19 (1403).jpg\": { \"Landmarks\": [],\"Labels\": []},\n",
        "\"CIRVR19 (1535).jpg\": { \"Landmarks\": [],\"Labels\": []},\n",
        "\"CIRVR19 (1536).jpg\": { \"Landmarks\": [],\"Labels\": []},\n",
        "\"CIRVR19 (1699).jpg\": { \"Landmarks\": [],\"Labels\": []},\n",
        "\"CIRVR19 (187).jpg\": { \"Landmarks\": [],\"Labels\": []},\n",
        "\"CIRVR19 (357).jpg\": { \"Landmarks\": [],\"Labels\": []},\n",
        "\"CIRVR19 (436).jpg\": { \"Landmarks\": [],\"Labels\": []},\n",
        "\"CIRVR19 (437).jpg\": { \"Landmarks\": [],\"Labels\": []},\n",
        "\"CIRVR19 (473).jpg\": { \"Landmarks\": [],\"Labels\": []},\n",
        "\"CIRVR19 (669).jpg\": { \"Landmarks\": [],\"Labels\": []},\n",
        "\"CIRVR19 (676).jpg\": { \"Landmarks\": [],\"Labels\": []},\n",
        "\"CIRVR19 (695).jpg\": { \"Landmarks\": [],\"Labels\": []},\n",
        "\"CIRVR19 (779).jpg\": { \"Landmarks\": [],\"Labels\": []},\n",
        "\"CIRVR19 (79).jpg\": { \"Landmarks\": [],\"Labels\": []},\n",
        "\"CIRVR19 (866).jpg\": { \"Landmarks\": [],\"Labels\": []},\n",
        "\"CIRVR20 (1387).jpg\": { \"Landmarks\": [],\"Labels\": []},\n",
        "\"CIRVR21 (1176).jpg\": { \"Landmarks\": [],\"Labels\": []},\n",
        "\"CIRVR21 (1178).jpg\": { \"Landmarks\": [],\"Labels\": []},\n",
        "\"CIRVR21 (1733).jpg\": { \"Landmarks\": [],\"Labels\": []},\n",
        "\"CIRVR21 (1776).jpg\": { \"Landmarks\": [],\"Labels\": []},\n",
        "\"CIRVR21 (1777).jpg\": { \"Landmarks\": [],\"Labels\": []},\n",
        "\"CIRVR21 (1781).jpg\": { \"Landmarks\": [],\"Labels\": []},\n",
        "\"CIRVR21 (1787).jpg\": { \"Landmarks\": [],\"Labels\": []},\n",
        "\"CIRVR21 (1874).jpg\": { \"Landmarks\": [],\"Labels\": []},\n",
        "\"CIRVR21 (2664).jpg\": { \"Landmarks\": [],\"Labels\": []},\n",
        "\"CIRVR22 (437).jpg\": { \"Landmarks\": [],\"Labels\": []},\n",
        "\"CIRVR22 (8).jpg\": { \"Landmarks\": [],\"Labels\": []},\n",
        "\"CIRVR24 (1).jpg\": { \"Landmarks\": [],\"Labels\": []},\n",
        "\"CIRVR24 (24).jpg\": { \"Landmarks\": [],\"Labels\": []},\n",
        "\"CIRVR24 (3752).jpg\": { \"Landmarks\": [],\"Labels\": []},\n",
        "\"CIRVR24 (3834).jpg\": { \"Landmarks\": [],\"Labels\": []},\n",
        "\"CIRVR24 (3872).jpg\": { \"Landmarks\": [],\"Labels\": []},\n",
        "\"CIRVR24 (477).jpg\": { \"Landmarks\": [],\"Labels\": []},\n",
        "\"CIRVR24 (591).jpg\": { \"Landmarks\": [],\"Labels\": []},\n",
        "\"CIRVR24 (638).jpg\": { \"Landmarks\": [],\"Labels\": []},\n",
        "\"CIRVR24 (68).jpg\": { \"Landmarks\": [],\"Labels\": []},\n",
        "\"CIRVR24 (84).jpg\": { \"Landmarks\": [],\"Labels\": []},\n",
        "\"CIRVR24 (992).jpg\": { \"Landmarks\": [],\"Labels\": []},\n",
        "\"CIRVR24 (998).jpg\": { \"Landmarks\": [],\"Labels\": []},\n",
        "\"frame275.jpg\": { \"Landmarks\": [],\"Labels\": []},\n",
        "\"frame296.jpg\": { \"Landmarks\": [],\"Labels\": []},\n",
        "\"CIRVR19 (1378).jpg\": { \"Landmarks\": [],\"Labels\": []},\n",
        "\"CIRVR19 (1379).jpg\": { \"Landmarks\": [],\"Labels\": []},\n",
        "\"CIRVR19 (777).jpg\": { \"Landmarks\": [],\"Labels\": []},\n",
        "\"CIRVR20 (3552).jpg\": { \"Landmarks\": [],\"Labels\": []},\n",
        "\"CIRVR20 (3553).jpg\": { \"Landmarks\": [],\"Labels\": []},\n",
        "\"CIRVR20 (3554).jpg\": { \"Landmarks\": [],\"Labels\": []},\n",
        "\"CIRVR20 (3555).jpg\": { \"Landmarks\": [],\"Labels\": []},\n",
        "\"CIRVR20 (3556).jpg\": { \"Landmarks\": [],\"Labels\": []},\n",
        "\"CIRVR21 (1022).jpg\": { \"Landmarks\": [],\"Labels\": []},\n",
        "\"CIRVR21 (1177).jpg\": { \"Landmarks\": [],\"Labels\": []},\n",
        "\"CIRVR21 (1180).jpg\": { \"Landmarks\": [],\"Labels\": []},\n",
        "\"CIRVR21 (2534).jpg\": { \"Landmarks\": [],\"Labels\": []},\n",
        "\"CIRVR21 (3609).jpg\": { \"Landmarks\": [],\"Labels\": []},\n",
        "\"CIRVR21 (3610).jpg\": { \"Landmarks\": [],\"Labels\": []},\n",
        "\"CIRVR21 (3630).jpg\": { \"Landmarks\": [],\"Labels\": []},\n",
        "\"CIRVR21 (45).jpg\": { \"Landmarks\": [],\"Labels\": []},\n",
        "\"CIRVR21 (46).jpg\": { \"Landmarks\": [],\"Labels\": []},\n",
        "\"CIRVR22 (107).jpg\": { \"Landmarks\": [],\"Labels\": []},\n",
        "\"CIRVR22 (22).jpg\": { \"Landmarks\": [],\"Labels\": []},\n",
        "\"CIRVR22 (439).jpg\": { \"Landmarks\": [],\"Labels\": []},\n",
        "\"frame12751.jpg\": { \"Landmarks\": [],\"Labels\": []},\n",
        "\"frame5130.jpg\": { \"Landmarks\": [],\"Labels\": []},\n",
        "\"frame8204.jpg\": { \"Landmarks\": [],\"Labels\": []},\n",
        "\"CIRVR20 (3503).jpg\": { \"Landmarks\": [],\"Labels\": []},\n",
        "\"CIRVR22 (1).jpg\": { \"Landmarks\": [],\"Labels\": []},\n",
        "\"CIRVR22 (438).jpg\": { \"Landmarks\": [],\"Labels\": []},\n",
        "\"CIRVR24 (1911).jpg\": { \"Landmarks\": [],\"Labels\": []},\n",
        "\"CIRVR24 (2522).jpg\": { \"Landmarks\": [],\"Labels\": []},\n",
        "\"CIRVR24 (78).jpg\": { \"Landmarks\": [],\"Labels\": []},\n",
        "\"frame250.jpg\": { \"Landmarks\": [],\"Labels\": []},\n",
        "\"frame254.jpg\": { \"Landmarks\": [],\"Labels\": []},\n",
        "\"frame317.jpg\": { \"Landmarks\": [],\"Labels\": []},\n",
        "\"frame321.jpg\": { \"Landmarks\": [],\"Labels\": []},\n",
        "\"frame5647.jpg\": { \"Landmarks\": [],\"Labels\": []},\n",
        "\"CIRVR19 (1411).jpg\": { \"Landmarks\": [],\"Labels\": []},\n",
        "\"CIRVR19 (1914).jpg\": { \"Landmarks\": [],\"Labels\": []},\n",
        "\"CIRVR19 (360).jpg\": { \"Landmarks\": [],\"Labels\": []},\n",
        "\"CIRVR24 (58).jpg\": { \"Landmarks\": [],\"Labels\": []},\n",
        "\"frame1673.jpg\": { \"Landmarks\": [],\"Labels\": []},\n",
        "\"CIRVR19 (1380).jpg\": { \"Landmarks\": [],\"Labels\": []},\n",
        "\"CIRVR19 (1381).jpg\": { \"Landmarks\": [],\"Labels\": []},\n",
        "\"CIRVR19 (1401).jpg\": { \"Landmarks\": [],\"Labels\": []},\n",
        "\"CIRVR19 (1813).jpg\": { \"Landmarks\": [],\"Labels\": []},\n",
        "\"CIRVR19 (1814).jpg\": { \"Landmarks\": [],\"Labels\": []},\n",
        "\"CIRVR19 (824).jpg\": { \"Landmarks\": [],\"Labels\": []},\n",
        "\"CIRVR20 (3498).jpg\": { \"Landmarks\": [],\"Labels\": []},\n",
        "\"CIRVR20 (3500).jpg\": { \"Landmarks\": [],\"Labels\": []},\n",
        "\"CIRVR20 (3718).jpg\": { \"Landmarks\": [],\"Labels\": []},\n",
        "\"CIRVR20 (3719).jpg\": { \"Landmarks\": [],\"Labels\": []},\n",
        "\"CIRVR20 (59).jpg\": { \"Landmarks\": [],\"Labels\": []},\n",
        "\"CIRVR20 (60).jpg\": { \"Landmarks\": [],\"Labels\": []},\n",
        "\"CIRVR20 (63).jpg\": { \"Landmarks\": [],\"Labels\": []},\n",
        "\"CIRVR20 (64).jpg\": { \"Landmarks\": [],\"Labels\": []},\n",
        "\"CIRVR21 (160).jpg\": { \"Landmarks\": [],\"Labels\": []},\n",
        "\"CIRVR21 (169).jpg\": { \"Landmarks\": [],\"Labels\": []},\n",
        "\"CIRVR21 (171).jpg\": { \"Landmarks\": [],\"Labels\": []},\n",
        "\"CIRVR21 (2326).jpg\": { \"Landmarks\": [],\"Labels\": []},\n",
        "\"CIRVR21 (2524).jpg\": { \"Landmarks\": [],\"Labels\": []},\n",
        "\"CIRVR21 (3602).jpg\": { \"Landmarks\": [],\"Labels\": []},\n",
        "\"CIRVR21 (49).jpg\": { \"Landmarks\": [],\"Labels\": []},\n",
        "\"CIRVR22 (202).jpg\": { \"Landmarks\": [],\"Labels\": []},\n",
        "\"CIRVR22 (553).jpg\": { \"Landmarks\": [],\"Labels\": []},\n",
        "\"CIRVR22 (580).jpg\": { \"Landmarks\": [],\"Labels\": []},\n",
        "\"CIRVR22 (598).jpg\": { \"Landmarks\": [],\"Labels\": []},\n",
        "\"CIRVR22 (599).jpg\": { \"Landmarks\": [],\"Labels\": []},\n",
        "\"CIRVR22 (604).jpg\": { \"Landmarks\": [],\"Labels\": []},\n",
        "\"CIRVR22 (902).jpg\": { \"Landmarks\": [],\"Labels\": []},\n",
        "\"CIRVR22 (903).jpg\": { \"Landmarks\": [],\"Labels\": []},\n",
        "\"CIRVR22 (905).jpg\": { \"Landmarks\": [],\"Labels\": []},\n",
        "\"CIRVR22 (907).jpg\": { \"Landmarks\": [],\"Labels\": []},\n",
        "\"CIRVR22 (918).jpg\": { \"Landmarks\": [],\"Labels\": []},\n",
        "\"CIRVR22 (922).jpg\": { \"Landmarks\": [],\"Labels\": []},\n",
        "\"CIRVR23 (584).jpg\": { \"Landmarks\": [],\"Labels\": []},\n",
        "\"frame12427.jpg\": { \"Landmarks\": [],\"Labels\": []},\n",
        "\"frame1941.jpg\": { \"Landmarks\": [],\"Labels\": []},\n",
        "\"frame1948.jpg\": { \"Landmarks\": [],\"Labels\": []},\n",
        "\"frame1988.jpg\": { \"Landmarks\": [],\"Labels\": []},\n",
        "\"frame2346.jpg\": { \"Landmarks\": [],\"Labels\": []},\n",
        "\"frame2636.jpg\": { \"Landmarks\": [],\"Labels\": []},\n",
        "\"frame6068.jpg\": { \"Landmarks\": [],\"Labels\": []},\n",
        "\"frame8073.jpg\": { \"Landmarks\": [],\"Labels\": []},\n",
        "\"CIRVR19 (1400).jpg\": { \"Landmarks\": [],\"Labels\": []},\n",
        "\"CIRVR19 (300).jpg\": { \"Landmarks\": [],\"Labels\": []},\n",
        "\"CIRVR19 (317).jpg\": { \"Landmarks\": [],\"Labels\": []},\n",
        "\"CIRVR19 (371).jpg\": { \"Landmarks\": [],\"Labels\": []},\n",
        "\"CIRVR19 (781).jpg\": { \"Landmarks\": [],\"Labels\": []},\n",
        "\"CIRVR19 (826).jpg\": { \"Landmarks\": [],\"Labels\": []},\n",
        "\"CIRVR20 (1356).jpg\": { \"Landmarks\": [],\"Labels\": []},\n",
        "\"CIRVR20 (1359).jpg\": { \"Landmarks\": [],\"Labels\": []},\n",
        "\"CIRVR20 (1439).jpg\": { \"Landmarks\": [],\"Labels\": []},\n",
        "\"CIRVR20 (3559).jpg\": { \"Landmarks\": [],\"Labels\": []},\n",
        "\"CIRVR21 (1179).jpg\": { \"Landmarks\": [],\"Labels\": []},\n",
        "\"CIRVR21 (1731).jpg\": { \"Landmarks\": [],\"Labels\": []},\n",
        "\"CIRVR21 (1797).jpg\": { \"Landmarks\": [],\"Labels\": []},\n",
        "\"CIRVR21 (1815).jpg\": { \"Landmarks\": [],\"Labels\": []},\n",
        "\"CIRVR21 (1816).jpg\": { \"Landmarks\": [],\"Labels\": []},\n",
        "\"CIRVR21 (3425).jpg\": { \"Landmarks\": [],\"Labels\": []},\n",
        "\"CIRVR21 (3427).jpg\": { \"Landmarks\": [],\"Labels\": []},\n",
        "\"CIRVR21 (3433).jpg\": { \"Landmarks\": [],\"Labels\": []},\n",
        "\"CIRVR21 (3441).jpg\": { \"Landmarks\": [],\"Labels\": []},\n",
        "\"CIRVR21 (48).jpg\": { \"Landmarks\": [],\"Labels\": []},\n",
        "\"CIRVR21 (719).jpg\": { \"Landmarks\": [],\"Labels\": []},\n",
        "\"CIRVR21 (739).jpg\": { \"Landmarks\": [],\"Labels\": []},\n",
        "\"CIRVR21 (793).jpg\": { \"Landmarks\": [],\"Labels\": []},\n",
        "\"CIRVR21 (947).jpg\": { \"Landmarks\": [],\"Labels\": []},\n",
        "\"CIRVR21 (97).jpg\": { \"Landmarks\": [],\"Labels\": []},\n",
        "\"CIRVR22 (33).jpg\": { \"Landmarks\": [],\"Labels\": []},\n",
        "\"CIRVR22 (37).jpg\": { \"Landmarks\": [],\"Labels\": []},\n",
        "\"CIRVR22 (516).jpg\": { \"Landmarks\": [],\"Labels\": []},\n",
        "\"CIRVR23 (1833).jpg\": { \"Landmarks\": [],\"Labels\": []},\n",
        "\"CIRVR23 (1834).jpg\": { \"Landmarks\": [],\"Labels\": []},\n",
        "\"CIRVR23 (559).jpg\": { \"Landmarks\": [],\"Labels\": []},\n",
        "\"CIRVR23 (570).jpg\": { \"Landmarks\": [],\"Labels\": []},\n",
        "\"CIRVR23 (572).jpg\": { \"Landmarks\": [],\"Labels\": []},\n",
        "\"CIRVR23 (577).jpg\": { \"Landmarks\": [],\"Labels\": []},\n",
        "\"CIRVR23 (737).jpg\": { \"Landmarks\": [],\"Labels\": []},\n",
        "\"CIRVR23 (770).jpg\": { \"Landmarks\": [],\"Labels\": []},\n",
        "\"CIRVR23 (773).jpg\": { \"Landmarks\": [],\"Labels\": []},\n",
        "\"CIRVR24 (1018).jpg\": { \"Landmarks\": [],\"Labels\": []},\n",
        "\"CIRVR24 (1020).jpg\": { \"Landmarks\": [],\"Labels\": []},\n",
        "\"CIRVR24 (1042).jpg\": { \"Landmarks\": [],\"Labels\": []},\n",
        "\"CIRVR24 (1217).jpg\": { \"Landmarks\": [],\"Labels\": []},\n",
        "\"CIRVR24 (1858).jpg\": { \"Landmarks\": [],\"Labels\": []},\n",
        "\"CIRVR24 (2371).jpg\": { \"Landmarks\": [],\"Labels\": []},\n",
        "\"CIRVR24 (29).jpg\": { \"Landmarks\": [],\"Labels\": []},\n",
        "\"CIRVR24 (3835).jpg\": { \"Landmarks\": [],\"Labels\": []},\n",
        "\"CIRVR24 (885).jpg\": { \"Landmarks\": [],\"Labels\": []},\n",
        "\"CIRVR24 (956).jpg\": { \"Landmarks\": [],\"Labels\": []},\n",
        "\"CIRVR24 (98).jpg\": { \"Landmarks\": [],\"Labels\": []},\n",
        "\"frame1685.jpg\": { \"Landmarks\": [],\"Labels\": []},\n",
        "\"frame2050.jpg\": { \"Landmarks\": [],\"Labels\": []},\n",
        "\"frame2442.jpg\": { \"Landmarks\": [],\"Labels\": []},\n",
        "\"frame3260.jpg\": { \"Landmarks\": [],\"Labels\": []},\n",
        "\"frame400.jpg\": { \"Landmarks\": [],\"Labels\": []},\n",
        "\"frame425.jpg\": { \"Landmarks\": [],\"Labels\": []},\n",
        "\"frame4255.jpg\": { \"Landmarks\": [],\"Labels\": []},\n",
        "\"frame4340.jpg\": { \"Landmarks\": [],\"Labels\": []},\n",
        "\"frame504.jpg\": { \"Landmarks\": [],\"Labels\": []},\n",
        "\"frame867.jpg\": { \"Landmarks\": [],\"Labels\": []},\n",
        "\"CIRVR19 (1258).jpg\": { \"Landmarks\": [],\"Labels\": []},\n",
        "\"CIRVR19 (203).jpg\": { \"Landmarks\": [],\"Labels\": []},\n",
        "\"CIRVR19 (260).jpg\": { \"Landmarks\": [],\"Labels\": []},\n",
        "\"CIRVR19 (764).jpg\": { \"Landmarks\": [],\"Labels\": []},\n",
        "\"CIRVR20 (3708).jpg\": { \"Landmarks\": [],\"Labels\": []},\n",
        "\"CIRVR20 (3709).jpg\": { \"Landmarks\": [],\"Labels\": []},\n",
        "\"CIRVR21 (1191).jpg\": { \"Landmarks\": [],\"Labels\": []},\n",
        "\"CIRVR21 (1775).jpg\": { \"Landmarks\": [],\"Labels\": []},\n",
        "\"CIRVR21 (1778).jpg\": { \"Landmarks\": [],\"Labels\": []},\n",
        "\"CIRVR21 (1071).jpg\": { \"Landmarks\": [],\"Labels\": []},\n",
        "\"CIRVR21 (1074).jpg\": { \"Landmarks\": [],\"Labels\": []},\n",
        "\"CIRVR21 (1133).jpg\": { \"Landmarks\": [],\"Labels\": []},\n",
        "\"CIRVR21 (1134).jpg\": { \"Landmarks\": [],\"Labels\": []},\n",
        "\"CIRVR21 (3571).jpg\": { \"Landmarks\": [],\"Labels\": []},\n",
        "\"CIRVR21 (713).jpg\": { \"Landmarks\": [],\"Labels\": []},\n",
        "\"CIRVR22 (674).jpg\": { \"Landmarks\": [],\"Labels\": []},\n",
        "\"frame3431.jpg\": { \"Landmarks\": [],\"Labels\": []}}"
      ]
    },
    {
      "cell_type": "code",
      "execution_count": null,
      "id": "cathedral-contribution",
      "metadata": {
        "id": "cathedral-contribution"
      },
      "outputs": [],
      "source": [
        "import os"
      ]
    },
    {
      "cell_type": "code",
      "execution_count": null,
      "id": "boring-cooking",
      "metadata": {
        "id": "boring-cooking"
      },
      "outputs": [],
      "source": [
        "predictor_path = \"/content/drive/My Drive/Colab Notebooks/shape_predictor_68_face_landmarks.dat\"\n",
        "detector = dlib.get_frontal_face_detector()\n",
        "predictor = dlib.shape_predictor(predictor_path)\n",
        "for filename in os.listdir(directory):\n",
        "    f = os.path.join(directory, filename)\n",
        "    #print(filename)\n",
        "    for filename2 in os.listdir(directory+ '/' +filename):\n",
        "        x1 = []\n",
        "        x2 = []\n",
        "        #print(filename2)\n",
        "        #print(directory + '/' + filename + '/' + filename2)\n",
        "        img = dlib.load_rgb_image(directory + '/' + filename + '/' + filename2)\n",
        "        \n",
        "        # Ask the detector to find the bounding boxes of each face. The 1 in the\n",
        "        # second argument indicates that we should upsample the image 1 time. This\n",
        "        # will make everything bigger and allow us to detect more faces.\n",
        "        \n",
        "        dets = detector(img, 1)\n",
        "        #print(\"Number of faces detected: {}\".format(len(dets)))\n",
        "        for k, d in enumerate(dets):\n",
        "            print(\"Detection {}: Left: {} Top: {} Right: {} Bottom: {}\".format(\n",
        "            k, d.left(), d.top(), d.right(), d.bottom()))\n",
        "        # Get the landmarks/parts for the face in box d.\n",
        "        shape = predictor(img, d)\n",
        "        if(len(dets)==1):\n",
        "            for key in dict.keys():\n",
        "                if(filename2==key):\n",
        "                    dict[key]['Labels'].append(filename)\n",
        "                    for i in range(17,68,1):\n",
        "                        dict[key]['Landmarks'].append([shape.part(i).x,shape.part(i).y])  \n",
        "                        x1.append(shape.part(i).x)\n",
        "                        x2.append(shape.part(i).y)\n",
        "        print(filename2)\n",
        "        imgplot = plt.imshow(img)\n",
        "        plt.scatter(x1,x2)\n",
        "        plt.show()\n",
        "        dlib.hit_enter_to_continue()\n"
      ]
    },
    {
      "cell_type": "code",
      "execution_count": null,
      "id": "parallel-cologne",
      "metadata": {
        "id": "parallel-cologne"
      },
      "outputs": [],
      "source": [
        "df = pd.DataFrame(dict)"
      ]
    },
    {
      "cell_type": "code",
      "execution_count": null,
      "id": "continent-amino",
      "metadata": {
        "id": "continent-amino"
      },
      "outputs": [],
      "source": [
        "df1 = df.T"
      ]
    },
    {
      "cell_type": "code",
      "execution_count": null,
      "id": "noted-journey",
      "metadata": {
        "id": "noted-journey",
        "outputId": "53d25930-cd8a-4201-e2f1-32ff904a411d"
      },
      "outputs": [
        {
          "data": {
            "text/html": [
              "<div>\n",
              "<style scoped>\n",
              "    .dataframe tbody tr th:only-of-type {\n",
              "        vertical-align: middle;\n",
              "    }\n",
              "\n",
              "    .dataframe tbody tr th {\n",
              "        vertical-align: top;\n",
              "    }\n",
              "\n",
              "    .dataframe thead th {\n",
              "        text-align: right;\n",
              "    }\n",
              "</style>\n",
              "<table border=\"1\" class=\"dataframe\">\n",
              "  <thead>\n",
              "    <tr style=\"text-align: right;\">\n",
              "      <th></th>\n",
              "      <th>Landmarks</th>\n",
              "      <th>Labels</th>\n",
              "    </tr>\n",
              "  </thead>\n",
              "  <tbody>\n",
              "    <tr>\n",
              "      <th>CIRVR19 (126).jpg</th>\n",
              "      <td>[[15, 67], [36, 63], [59, 67], [80, 73], [101,...</td>\n",
              "      <td>[anger]</td>\n",
              "    </tr>\n",
              "    <tr>\n",
              "      <th>CIRVR19 (1374).jpg</th>\n",
              "      <td>[[35, 77], [57, 70], [80, 71], [102, 75], [123...</td>\n",
              "      <td>[anger]</td>\n",
              "    </tr>\n",
              "    <tr>\n",
              "      <th>CIRVR19 (1402).jpg</th>\n",
              "      <td>[[28, 86], [48, 73], [72, 67], [98, 67], [122,...</td>\n",
              "      <td>[anger]</td>\n",
              "    </tr>\n",
              "    <tr>\n",
              "      <th>CIRVR19 (1403).jpg</th>\n",
              "      <td>[[38, 87], [60, 75], [85, 71], [111, 73], [134...</td>\n",
              "      <td>[anger]</td>\n",
              "    </tr>\n",
              "    <tr>\n",
              "      <th>CIRVR19 (1535).jpg</th>\n",
              "      <td>[[21, 92], [36, 79], [57, 72], [79, 72], [100,...</td>\n",
              "      <td>[anger]</td>\n",
              "    </tr>\n",
              "    <tr>\n",
              "      <th>...</th>\n",
              "      <td>...</td>\n",
              "      <td>...</td>\n",
              "    </tr>\n",
              "    <tr>\n",
              "      <th>CIRVR21 (1134).jpg</th>\n",
              "      <td>[[15, 92], [25, 73], [47, 66], [69, 68], [90, ...</td>\n",
              "      <td>[surprise]</td>\n",
              "    </tr>\n",
              "    <tr>\n",
              "      <th>CIRVR21 (3571).jpg</th>\n",
              "      <td>[[16, 78], [28, 64], [48, 61], [67, 66], [84, ...</td>\n",
              "      <td>[surprise]</td>\n",
              "    </tr>\n",
              "    <tr>\n",
              "      <th>CIRVR21 (713).jpg</th>\n",
              "      <td>[[16, 104], [29, 87], [50, 82], [72, 84], [93,...</td>\n",
              "      <td>[surprise]</td>\n",
              "    </tr>\n",
              "    <tr>\n",
              "      <th>CIRVR22 (674).jpg</th>\n",
              "      <td>[[22, 83], [40, 74], [61, 74], [83, 77], [102,...</td>\n",
              "      <td>[surprise]</td>\n",
              "    </tr>\n",
              "    <tr>\n",
              "      <th>frame3431.jpg</th>\n",
              "      <td>[]</td>\n",
              "      <td>[]</td>\n",
              "    </tr>\n",
              "  </tbody>\n",
              "</table>\n",
              "<p>200 rows × 2 columns</p>\n",
              "</div>"
            ],
            "text/plain": [
              "                                                            Landmarks  \\\n",
              "CIRVR19 (126).jpg   [[15, 67], [36, 63], [59, 67], [80, 73], [101,...   \n",
              "CIRVR19 (1374).jpg  [[35, 77], [57, 70], [80, 71], [102, 75], [123...   \n",
              "CIRVR19 (1402).jpg  [[28, 86], [48, 73], [72, 67], [98, 67], [122,...   \n",
              "CIRVR19 (1403).jpg  [[38, 87], [60, 75], [85, 71], [111, 73], [134...   \n",
              "CIRVR19 (1535).jpg  [[21, 92], [36, 79], [57, 72], [79, 72], [100,...   \n",
              "...                                                               ...   \n",
              "CIRVR21 (1134).jpg  [[15, 92], [25, 73], [47, 66], [69, 68], [90, ...   \n",
              "CIRVR21 (3571).jpg  [[16, 78], [28, 64], [48, 61], [67, 66], [84, ...   \n",
              "CIRVR21 (713).jpg   [[16, 104], [29, 87], [50, 82], [72, 84], [93,...   \n",
              "CIRVR22 (674).jpg   [[22, 83], [40, 74], [61, 74], [83, 77], [102,...   \n",
              "frame3431.jpg                                                      []   \n",
              "\n",
              "                        Labels  \n",
              "CIRVR19 (126).jpg      [anger]  \n",
              "CIRVR19 (1374).jpg     [anger]  \n",
              "CIRVR19 (1402).jpg     [anger]  \n",
              "CIRVR19 (1403).jpg     [anger]  \n",
              "CIRVR19 (1535).jpg     [anger]  \n",
              "...                        ...  \n",
              "CIRVR21 (1134).jpg  [surprise]  \n",
              "CIRVR21 (3571).jpg  [surprise]  \n",
              "CIRVR21 (713).jpg   [surprise]  \n",
              "CIRVR22 (674).jpg   [surprise]  \n",
              "frame3431.jpg               []  \n",
              "\n",
              "[200 rows x 2 columns]"
            ]
          },
          "execution_count": 10,
          "metadata": {},
          "output_type": "execute_result"
        }
      ],
      "source": [
        "df1"
      ]
    },
    {
      "cell_type": "code",
      "execution_count": null,
      "id": "threatened-occurrence",
      "metadata": {
        "id": "threatened-occurrence",
        "outputId": "1815da25-0cf8-4341-dd0f-8eef0cbf1c94"
      },
      "outputs": [
        {
          "ename": "PermissionError",
          "evalue": "[Errno 13] Permission denied: 'Landmarks2.csv'",
          "output_type": "error",
          "traceback": [
            "\u001b[1;31m---------------------------------------------------------------------------\u001b[0m",
            "\u001b[1;31mPermissionError\u001b[0m                           Traceback (most recent call last)",
            "\u001b[1;32m<ipython-input-14-85ce7b1e761f>\u001b[0m in \u001b[0;36m<module>\u001b[1;34m\u001b[0m\n\u001b[1;32m----> 1\u001b[1;33m \u001b[0mdf1\u001b[0m\u001b[1;33m.\u001b[0m\u001b[0mto_csv\u001b[0m\u001b[1;33m(\u001b[0m\u001b[1;34m'Landmarks2.csv'\u001b[0m\u001b[1;33m)\u001b[0m\u001b[1;33m\u001b[0m\u001b[1;33m\u001b[0m\u001b[0m\n\u001b[0m",
            "\u001b[1;32m~\\anaconda3\\envs\\pt\\lib\\site-packages\\pandas\\core\\generic.py\u001b[0m in \u001b[0;36mto_csv\u001b[1;34m(self, path_or_buf, sep, na_rep, float_format, columns, header, index, index_label, mode, encoding, compression, quoting, quotechar, line_terminator, chunksize, date_format, doublequote, escapechar, decimal, errors)\u001b[0m\n\u001b[0;32m   3168\u001b[0m             \u001b[0mdecimal\u001b[0m\u001b[1;33m=\u001b[0m\u001b[0mdecimal\u001b[0m\u001b[1;33m,\u001b[0m\u001b[1;33m\u001b[0m\u001b[1;33m\u001b[0m\u001b[0m\n\u001b[0;32m   3169\u001b[0m         )\n\u001b[1;32m-> 3170\u001b[1;33m         \u001b[0mformatter\u001b[0m\u001b[1;33m.\u001b[0m\u001b[0msave\u001b[0m\u001b[1;33m(\u001b[0m\u001b[1;33m)\u001b[0m\u001b[1;33m\u001b[0m\u001b[1;33m\u001b[0m\u001b[0m\n\u001b[0m\u001b[0;32m   3171\u001b[0m \u001b[1;33m\u001b[0m\u001b[0m\n\u001b[0;32m   3172\u001b[0m         \u001b[1;32mif\u001b[0m \u001b[0mpath_or_buf\u001b[0m \u001b[1;32mis\u001b[0m \u001b[1;32mNone\u001b[0m\u001b[1;33m:\u001b[0m\u001b[1;33m\u001b[0m\u001b[1;33m\u001b[0m\u001b[0m\n",
            "\u001b[1;32m~\\anaconda3\\envs\\pt\\lib\\site-packages\\pandas\\io\\formats\\csvs.py\u001b[0m in \u001b[0;36msave\u001b[1;34m(self)\u001b[0m\n\u001b[0;32m    188\u001b[0m                 \u001b[0mencoding\u001b[0m\u001b[1;33m=\u001b[0m\u001b[0mself\u001b[0m\u001b[1;33m.\u001b[0m\u001b[0mencoding\u001b[0m\u001b[1;33m,\u001b[0m\u001b[1;33m\u001b[0m\u001b[1;33m\u001b[0m\u001b[0m\n\u001b[0;32m    189\u001b[0m                 \u001b[0merrors\u001b[0m\u001b[1;33m=\u001b[0m\u001b[0mself\u001b[0m\u001b[1;33m.\u001b[0m\u001b[0merrors\u001b[0m\u001b[1;33m,\u001b[0m\u001b[1;33m\u001b[0m\u001b[1;33m\u001b[0m\u001b[0m\n\u001b[1;32m--> 190\u001b[1;33m                 \u001b[0mcompression\u001b[0m\u001b[1;33m=\u001b[0m\u001b[0mdict\u001b[0m\u001b[1;33m(\u001b[0m\u001b[0mself\u001b[0m\u001b[1;33m.\u001b[0m\u001b[0mcompression_args\u001b[0m\u001b[1;33m,\u001b[0m \u001b[0mmethod\u001b[0m\u001b[1;33m=\u001b[0m\u001b[0mself\u001b[0m\u001b[1;33m.\u001b[0m\u001b[0mcompression\u001b[0m\u001b[1;33m)\u001b[0m\u001b[1;33m,\u001b[0m\u001b[1;33m\u001b[0m\u001b[1;33m\u001b[0m\u001b[0m\n\u001b[0m\u001b[0;32m    191\u001b[0m             )\n\u001b[0;32m    192\u001b[0m             \u001b[0mclose\u001b[0m \u001b[1;33m=\u001b[0m \u001b[1;32mTrue\u001b[0m\u001b[1;33m\u001b[0m\u001b[1;33m\u001b[0m\u001b[0m\n",
            "\u001b[1;32m~\\anaconda3\\envs\\pt\\lib\\site-packages\\pandas\\io\\common.py\u001b[0m in \u001b[0;36mget_handle\u001b[1;34m(path_or_buf, mode, encoding, compression, memory_map, is_text, errors)\u001b[0m\n\u001b[0;32m    491\u001b[0m         \u001b[1;32mif\u001b[0m \u001b[0mencoding\u001b[0m\u001b[1;33m:\u001b[0m\u001b[1;33m\u001b[0m\u001b[1;33m\u001b[0m\u001b[0m\n\u001b[0;32m    492\u001b[0m             \u001b[1;31m# Encoding\u001b[0m\u001b[1;33m\u001b[0m\u001b[1;33m\u001b[0m\u001b[1;33m\u001b[0m\u001b[0m\n\u001b[1;32m--> 493\u001b[1;33m             \u001b[0mf\u001b[0m \u001b[1;33m=\u001b[0m \u001b[0mopen\u001b[0m\u001b[1;33m(\u001b[0m\u001b[0mpath_or_buf\u001b[0m\u001b[1;33m,\u001b[0m \u001b[0mmode\u001b[0m\u001b[1;33m,\u001b[0m \u001b[0mencoding\u001b[0m\u001b[1;33m=\u001b[0m\u001b[0mencoding\u001b[0m\u001b[1;33m,\u001b[0m \u001b[0merrors\u001b[0m\u001b[1;33m=\u001b[0m\u001b[0merrors\u001b[0m\u001b[1;33m,\u001b[0m \u001b[0mnewline\u001b[0m\u001b[1;33m=\u001b[0m\u001b[1;34m\"\"\u001b[0m\u001b[1;33m)\u001b[0m\u001b[1;33m\u001b[0m\u001b[1;33m\u001b[0m\u001b[0m\n\u001b[0m\u001b[0;32m    494\u001b[0m         \u001b[1;32melif\u001b[0m \u001b[0mis_text\u001b[0m\u001b[1;33m:\u001b[0m\u001b[1;33m\u001b[0m\u001b[1;33m\u001b[0m\u001b[0m\n\u001b[0;32m    495\u001b[0m             \u001b[1;31m# No explicit encoding\u001b[0m\u001b[1;33m\u001b[0m\u001b[1;33m\u001b[0m\u001b[1;33m\u001b[0m\u001b[0m\n",
            "\u001b[1;31mPermissionError\u001b[0m: [Errno 13] Permission denied: 'Landmarks2.csv'"
          ]
        }
      ],
      "source": [
        "df1.to_csv('Landmarks2.csv')"
      ]
    },
    {
      "cell_type": "code",
      "execution_count": null,
      "id": "complex-pregnancy",
      "metadata": {
        "id": "complex-pregnancy"
      },
      "outputs": [],
      "source": [
        "x_train = df1[\"Landmarks\"].values\n",
        "y_train = df1[\"Labels\"].values"
      ]
    },
    {
      "cell_type": "code",
      "execution_count": null,
      "id": "innocent-comparative",
      "metadata": {
        "id": "innocent-comparative",
        "outputId": "f0c6e100-d455-412b-83b4-1e7354e67e86"
      },
      "outputs": [
        {
          "data": {
            "text/plain": [
              "CIRVR19 (126).jpg        [anger]\n",
              "CIRVR19 (1374).jpg       [anger]\n",
              "CIRVR19 (1402).jpg       [anger]\n",
              "CIRVR19 (1403).jpg       [anger]\n",
              "CIRVR19 (1535).jpg       [anger]\n",
              "                         ...    \n",
              "CIRVR21 (1134).jpg    [surprise]\n",
              "CIRVR21 (3571).jpg    [surprise]\n",
              "CIRVR21 (713).jpg     [surprise]\n",
              "CIRVR22 (674).jpg     [surprise]\n",
              "frame3431.jpg                 []\n",
              "Name: Labels, Length: 200, dtype: object"
            ]
          },
          "execution_count": 12,
          "metadata": {},
          "output_type": "execute_result"
        }
      ],
      "source": [
        "df1[\"Labels\"]"
      ]
    },
    {
      "cell_type": "code",
      "execution_count": null,
      "id": "horizontal-olympus",
      "metadata": {
        "id": "horizontal-olympus"
      },
      "outputs": [],
      "source": [
        "import numpy as np"
      ]
    },
    {
      "cell_type": "code",
      "execution_count": null,
      "id": "absolute-richardson",
      "metadata": {
        "id": "absolute-richardson"
      },
      "outputs": [],
      "source": [
        "x_new_train = []\n",
        "y_new_train = []\n",
        "for i,j in zip(x_train,y_train):\n",
        "    if(i!=[]):\n",
        "        f = np.array(i)\n",
        "        x_new_train.append(f)\n",
        "        y_new_train.append(j)\n",
        "        \n",
        "    "
      ]
    },
    {
      "cell_type": "code",
      "execution_count": null,
      "id": "natural-greenhouse",
      "metadata": {
        "id": "natural-greenhouse",
        "outputId": "849d54b3-023e-44af-a780-6df7e674a691"
      },
      "outputs": [
        {
          "data": {
            "text/plain": [
              "(166, 51, 2)"
            ]
          },
          "execution_count": 15,
          "metadata": {},
          "output_type": "execute_result"
        }
      ],
      "source": [
        "#Created a dataset ready to be loaded\n",
        "x_new_train = np.array(x_new_train)\n",
        "x_new_train.shape"
      ]
    },
    {
      "cell_type": "markdown",
      "id": "welcome-treasure",
      "metadata": {
        "id": "welcome-treasure"
      },
      "source": [
        "Anger = 0\n",
        "Comtempt = 1\n",
        "Disgust = 2\n",
        "Fear = 3\n",
        "Happiness = 4\n",
        "Neutral = 5\n",
        "Sadness = 6\n",
        "Surprise = 7"
      ]
    },
    {
      "cell_type": "code",
      "execution_count": null,
      "id": "cooked-cause",
      "metadata": {
        "id": "cooked-cause"
      },
      "outputs": [],
      "source": [
        "y_new_train_2 = []\n",
        "for i in y_new_train:\n",
        "    print(i)\n",
        "    if(i == ['anger']):\n",
        "        y_new_train_2.append(0)\n",
        "    elif (i == ['contempt']):\n",
        "        y_new_train_2.append(1)\n",
        "    elif (i == ['disgust']):\n",
        "        y_new_train_2.append(2)\n",
        "    elif (i == ['fear']):\n",
        "        y_new_train_2.append(3)\n",
        "    elif (i == ['happiness']):\n",
        "        y_new_train_2.append(4)\n",
        "    elif (i == ['neutral']):\n",
        "        y_new_train_2.append(5)\n",
        "    elif (i == ['sadness']):\n",
        "        y_new_train_2.append(6)\n",
        "    elif (i ==['surprise']):\n",
        "        y_new_train_2.append(7)"
      ]
    },
    {
      "cell_type": "code",
      "execution_count": null,
      "id": "nutritional-october",
      "metadata": {
        "id": "nutritional-october"
      },
      "outputs": [],
      "source": [
        "y_new_train = np.array(y_new_train_2)"
      ]
    },
    {
      "cell_type": "code",
      "execution_count": null,
      "id": "illegal-router",
      "metadata": {
        "id": "illegal-router",
        "outputId": "e9625a0a-8d30-457f-bda6-df69e660c12a"
      },
      "outputs": [
        {
          "data": {
            "text/plain": [
              "(166,)"
            ]
          },
          "execution_count": 18,
          "metadata": {},
          "output_type": "execute_result"
        }
      ],
      "source": [
        "y_new_train.shape"
      ]
    },
    {
      "cell_type": "code",
      "execution_count": null,
      "id": "utility-barrel",
      "metadata": {
        "id": "utility-barrel"
      },
      "outputs": [],
      "source": [
        "x_new_train"
      ]
    },
    {
      "cell_type": "code",
      "execution_count": null,
      "id": "continuing-syracuse",
      "metadata": {
        "scrolled": false,
        "id": "continuing-syracuse"
      },
      "outputs": [],
      "source": [
        "# for x  in x_new_train:\n",
        "#     plt.scatter(x[:,0], x[:,1])\n",
        "#     plt.show()"
      ]
    },
    {
      "cell_type": "code",
      "execution_count": null,
      "id": "stupid-dinner",
      "metadata": {
        "id": "stupid-dinner"
      },
      "outputs": [],
      "source": [
        "from sklearn.decomposition import PCA"
      ]
    },
    {
      "cell_type": "code",
      "execution_count": null,
      "id": "absolute-battery",
      "metadata": {
        "id": "absolute-battery",
        "outputId": "d8ca3a5b-5d04-4aaf-a550-d4cb0c8f203f"
      },
      "outputs": [
        {
          "name": "stdout",
          "output_type": "stream",
          "text": [
            "(166, 102)\n"
          ]
        }
      ],
      "source": [
        "x_new_train.shape\n",
        "x_new_train = np.reshape(x_new_train, (166,102))\n",
        "print(x_new_train.shape)"
      ]
    },
    {
      "cell_type": "code",
      "execution_count": null,
      "id": "medieval-mozambique",
      "metadata": {
        "id": "medieval-mozambique"
      },
      "outputs": [],
      "source": [
        "pca = PCA(n_components=2)\n",
        "pca_res = pca.fit_transform(x_new_train)\n",
        "colors = ['blue', 'red', 'green', 'black', 'grey', 'purple', 'yellow', 'orange']\n",
        "classes = ['anger', 'contempt', 'disgust', 'fear', 'happiness', 'neutral', 'sadness', 'surprise']"
      ]
    },
    {
      "cell_type": "code",
      "execution_count": null,
      "id": "standard-durham",
      "metadata": {
        "id": "standard-durham",
        "outputId": "aa6f5180-38b8-4d21-aace-02f5a126fd20"
      },
      "outputs": [
        {
          "ename": "NameError",
          "evalue": "name 'pca_res' is not defined",
          "output_type": "error",
          "traceback": [
            "\u001b[1;31m---------------------------------------------------------------------------\u001b[0m",
            "\u001b[1;31mNameError\u001b[0m                                 Traceback (most recent call last)",
            "\u001b[1;32m<ipython-input-21-fee58e40a976>\u001b[0m in \u001b[0;36m<module>\u001b[1;34m\u001b[0m\n\u001b[1;32m----> 1\u001b[1;33m \u001b[0mpca_res\u001b[0m\u001b[1;33m.\u001b[0m\u001b[0mshape\u001b[0m\u001b[1;33m\u001b[0m\u001b[1;33m\u001b[0m\u001b[0m\n\u001b[0m",
            "\u001b[1;31mNameError\u001b[0m: name 'pca_res' is not defined"
          ]
        }
      ],
      "source": [
        "pca_res.shape"
      ]
    },
    {
      "cell_type": "markdown",
      "id": "figured-nightmare",
      "metadata": {
        "id": "figured-nightmare"
      },
      "source": [
        "Anger = 0\n",
        "Comtempt = 1\n",
        "Disgust = 2\n",
        "Fear = 3\n",
        "Happiness = 4\n",
        "Neutral = 5\n",
        "Sadness = 6\n",
        "Surprise = 7"
      ]
    },
    {
      "cell_type": "code",
      "execution_count": null,
      "id": "demanding-spyware",
      "metadata": {
        "id": "demanding-spyware"
      },
      "outputs": [],
      "source": [
        "angry = []\n",
        "happy = []\n",
        "sad = []\n",
        "contempt = []\n",
        "neutral = []\n",
        "fear = []\n",
        "surprise = []\n",
        "disgust = []\n",
        "for i in range(len(pca_res)):\n",
        "    if(y_new_train[i]==0):\n",
        "        angry.append(pca_res[i])\n",
        "    if(y_new_train[i]==1):\n",
        "        contempt.append(pca_res[i])\n",
        "    if(y_new_train[i]==2):\n",
        "        disgust.append(pca_res[i])\n",
        "    if(y_new_train[i]==3):\n",
        "        fear.append(pca_res[i])\n",
        "    if(y_new_train[i]==4):\n",
        "        happy.append(pca_res[i])\n",
        "    if(y_new_train[i]==5):\n",
        "        neutral.append(pca_res[i])\n",
        "    if(y_new_train[i]==6):\n",
        "        sad.append(pca_res[i])\n",
        "    if(y_new_train[i]==7):\n",
        "        surprise.append(pca_res[i])\n",
        "angry = np.array(angry)\n",
        "happy = np.array(happy)\n",
        "sad = np.array(sad)\n",
        "contempt = np.array(contempt)\n",
        "neutral = np.array(neutral)\n",
        "fear = np.array(fear)\n",
        "surprise = np.array(surprise)\n",
        "disgust = np.array(disgust)\n",
        "\n",
        "        "
      ]
    },
    {
      "cell_type": "code",
      "execution_count": null,
      "id": "tutorial-radio",
      "metadata": {
        "id": "tutorial-radio",
        "outputId": "b033a77a-490a-4a51-c40b-138d978c2c9d"
      },
      "outputs": [
        {
          "data": {
            "text/plain": [
              "<matplotlib.legend.Legend at 0x159d3480048>"
            ]
          },
          "execution_count": 252,
          "metadata": {},
          "output_type": "execute_result"
        },
        {
          "data": {
            "image/png": "[encoded data removed]",
            "text/plain": [
              "<Figure size 432x288 with 1 Axes>"
            ]
          },
          "metadata": {
            "needs_background": "light"
          },
          "output_type": "display_data"
        }
      ],
      "source": [
        "plt.scatter(angry[:,0], angry[:,1])\n",
        "plt.scatter(happy[:,0], happy[:,1])\n",
        "plt.scatter(sad[:,0], sad[:,1])\n",
        "plt.scatter(contempt[:,0], contempt[:,1])\n",
        "plt.scatter(neutral[:,0], neutral[:,1])\n",
        "plt.scatter(fear[:,0], fear[:,1])\n",
        "plt.scatter(surprise[:,0], surprise[:,1])\n",
        "plt.scatter(disgust[:,0], disgust[:,1])\n",
        "plt.legend(['anger','happy','sad','contempt','neutral','fear','surprise','disgust'],bbox_to_anchor=(1.3, 1.0))"
      ]
    },
    {
      "cell_type": "code",
      "execution_count": null,
      "id": "simplified-depth",
      "metadata": {
        "id": "simplified-depth",
        "outputId": "2824a172-f802-4f55-a6c4-e20d2bf1b5db"
      },
      "outputs": [
        {
          "data": {
            "image/png": "[encoded data removed]",
            "text/plain": [
              "<Figure size 432x288 with 1 Axes>"
            ]
          },
          "metadata": {
            "needs_background": "light"
          },
          "output_type": "display_data"
        }
      ],
      "source": [
        "scatter = plt.scatter(pca_res2[:,0],pca_res2[:,1],c=y_new_train,cmap=matplotlib.colors.ListedColormap(colors))\n",
        "plt.legend(handles=scatter.legend_elements()[0], labels=classes, bbox_to_anchor=(1.3, 1.0))\n",
        "plt.title('Landmarks')\n",
        "plt.show()"
      ]
    },
    {
      "cell_type": "code",
      "execution_count": null,
      "id": "confirmed-plasma",
      "metadata": {
        "id": "confirmed-plasma"
      },
      "outputs": [],
      "source": [
        "import matplotlib"
      ]
    },
    {
      "cell_type": "code",
      "execution_count": null,
      "id": "bigger-affiliation",
      "metadata": {
        "id": "bigger-affiliation",
        "outputId": "4254842f-f42d-4399-e09d-054e6495fcfb"
      },
      "outputs": [
        {
          "data": {
            "image/png": "[encoded data removed]",
            "text/plain": [
              "<Figure size 720x504 with 1 Axes>"
            ]
          },
          "metadata": {
            "needs_background": "light"
          },
          "output_type": "display_data"
        }
      ],
      "source": [
        "fig = plt.figure(figsize = (10, 7))\n",
        "ax = plt.axes(projection =\"3d\")\n",
        "scatter = ax.scatter3D(pca_res[:,0],pca_res[:,1],pca_res[:,2],c=y_new_train,cmap=matplotlib.colors.ListedColormap(colors))\n",
        "plt.legend(handles=scatter.legend_elements()[0], labels=classes, bbox_to_anchor=(1.05, 1.0))\n",
        "plt.show()"
      ]
    },
    {
      "cell_type": "code",
      "execution_count": null,
      "id": "colonial-dance",
      "metadata": {
        "id": "colonial-dance"
      },
      "outputs": [],
      "source": [
        ""
      ]
    },
    {
      "cell_type": "code",
      "execution_count": null,
      "id": "systematic-boards",
      "metadata": {
        "id": "systematic-boards"
      },
      "outputs": [],
      "source": [
        "from sklearn.manifold import TSNE"
      ]
    },
    {
      "cell_type": "code",
      "execution_count": null,
      "id": "quick-minister",
      "metadata": {
        "id": "quick-minister",
        "outputId": "5c8613d9-b8c2-4ca1-e830-9ac83715614a"
      },
      "outputs": [
        {
          "name": "stdout",
          "output_type": "stream",
          "text": [
            "[t-SNE] Computing 61 nearest neighbors...\n",
            "[t-SNE] Indexed 166 samples in 0.002s...\n",
            "[t-SNE] Computed neighbors for 166 samples in 0.008s...\n",
            "[t-SNE] Computed conditional probabilities for sample 166 / 166\n",
            "[t-SNE] Mean sigma: 13.210561\n",
            "[t-SNE] KL divergence after 250 iterations with early exaggeration: 59.920971\n",
            "[t-SNE] KL divergence after 300 iterations: 0.396652\n"
          ]
        }
      ],
      "source": [
        "tsne = TSNE(n_components=2, verbose=1, perplexity=20, n_iter=300)\n",
        "tsne_results = tsne.fit_transform(x_new_train)"
      ]
    },
    {
      "cell_type": "code",
      "execution_count": null,
      "id": "perfect-spare",
      "metadata": {
        "id": "perfect-spare",
        "outputId": "f18bbaa4-f0ad-4036-c8b2-cb13fc36bad2"
      },
      "outputs": [
        {
          "data": {
            "image/png": "[encoded data removed]",
            "text/plain": [
              "<Figure size 432x288 with 1 Axes>"
            ]
          },
          "metadata": {
            "needs_background": "light"
          },
          "output_type": "display_data"
        }
      ],
      "source": [
        "scatter = plt.scatter(tsne_results[:,0], tsne_results[:,1],c=y_new_train,cmap=matplotlib.colors.ListedColormap(colors))\n",
        "plt.legend(handles=scatter.legend_elements()[0], labels=classes, bbox_to_anchor=(1.3, 1.0))\n",
        "plt.show()"
      ]
    },
    {
      "cell_type": "code",
      "source": [
        "from google.colab import drive\n",
        "drive.mount('/content/drive')"
      ],
      "metadata": {
        "colab": {
          "base_uri": "https://localhost:8080/"
        },
        "id": "qoh3x7or7msK",
        "outputId": "c3084719-dcfb-45d5-c8d7-1ade2e5cc179"
      },
      "id": "qoh3x7or7msK",
      "execution_count": null,
      "outputs": [
        {
          "output_type": "stream",
          "name": "stdout",
          "text": [
            "Mounted at /content/drive\n"
          ]
        }
      ]
    },
    {
      "cell_type": "code",
      "execution_count": null,
      "id": "pretty-generic",
      "metadata": {
        "id": "pretty-generic"
      },
      "outputs": [],
      "source": [
        "#Try PCA with action units\n",
        "AUE = pd.read_csv ('ActionUnitExtraction.csv')"
      ]
    },
    {
      "cell_type": "code",
      "execution_count": null,
      "id": "soviet-hygiene",
      "metadata": {
        "id": "soviet-hygiene",
        "outputId": "e344e29d-4832-42bb-c426-b112c9df5ca9"
      },
      "outputs": [
        {
          "data": {
            "text/html": [
              "<div>\n",
              "<style scoped>\n",
              "    .dataframe tbody tr th:only-of-type {\n",
              "        vertical-align: middle;\n",
              "    }\n",
              "\n",
              "    .dataframe tbody tr th {\n",
              "        vertical-align: top;\n",
              "    }\n",
              "\n",
              "    .dataframe thead th {\n",
              "        text-align: right;\n",
              "    }\n",
              "</style>\n",
              "<table border=\"1\" class=\"dataframe\">\n",
              "  <thead>\n",
              "    <tr style=\"text-align: right;\">\n",
              "      <th></th>\n",
              "      <th>frame</th>\n",
              "      <th>confidence</th>\n",
              "      <th>success</th>\n",
              "      <th>AU01_r</th>\n",
              "      <th>AU02_r</th>\n",
              "      <th>AU04_r</th>\n",
              "      <th>AU05_r</th>\n",
              "      <th>AU06_r</th>\n",
              "      <th>AU07_r</th>\n",
              "      <th>AU09_r</th>\n",
              "      <th>...</th>\n",
              "      <th>AU15_c</th>\n",
              "      <th>AU17_c</th>\n",
              "      <th>AU20_c</th>\n",
              "      <th>AU23_c</th>\n",
              "      <th>AU25_c</th>\n",
              "      <th>AU26_c</th>\n",
              "      <th>AU28_c</th>\n",
              "      <th>AU45_c</th>\n",
              "      <th>filename</th>\n",
              "      <th>labels_AMY</th>\n",
              "    </tr>\n",
              "  </thead>\n",
              "  <tbody>\n",
              "    <tr>\n",
              "      <th>0</th>\n",
              "      <td>1</td>\n",
              "      <td>0.98</td>\n",
              "      <td>1</td>\n",
              "      <td>0.70</td>\n",
              "      <td>0.00</td>\n",
              "      <td>0.28</td>\n",
              "      <td>0.00</td>\n",
              "      <td>0.00</td>\n",
              "      <td>0.00</td>\n",
              "      <td>0.0</td>\n",
              "      <td>...</td>\n",
              "      <td>0</td>\n",
              "      <td>1</td>\n",
              "      <td>0</td>\n",
              "      <td>1</td>\n",
              "      <td>0</td>\n",
              "      <td>0</td>\n",
              "      <td>0</td>\n",
              "      <td>1</td>\n",
              "      <td>19-79</td>\n",
              "      <td>anger</td>\n",
              "    </tr>\n",
              "    <tr>\n",
              "      <th>1</th>\n",
              "      <td>2</td>\n",
              "      <td>0.88</td>\n",
              "      <td>1</td>\n",
              "      <td>0.42</td>\n",
              "      <td>0.00</td>\n",
              "      <td>0.44</td>\n",
              "      <td>0.11</td>\n",
              "      <td>0.00</td>\n",
              "      <td>0.11</td>\n",
              "      <td>0.0</td>\n",
              "      <td>...</td>\n",
              "      <td>0</td>\n",
              "      <td>1</td>\n",
              "      <td>0</td>\n",
              "      <td>0</td>\n",
              "      <td>1</td>\n",
              "      <td>1</td>\n",
              "      <td>0</td>\n",
              "      <td>0</td>\n",
              "      <td>19-126</td>\n",
              "      <td>anger</td>\n",
              "    </tr>\n",
              "    <tr>\n",
              "      <th>2</th>\n",
              "      <td>3</td>\n",
              "      <td>0.98</td>\n",
              "      <td>1</td>\n",
              "      <td>0.61</td>\n",
              "      <td>0.00</td>\n",
              "      <td>0.47</td>\n",
              "      <td>0.11</td>\n",
              "      <td>0.20</td>\n",
              "      <td>0.11</td>\n",
              "      <td>0.0</td>\n",
              "      <td>...</td>\n",
              "      <td>0</td>\n",
              "      <td>0</td>\n",
              "      <td>1</td>\n",
              "      <td>0</td>\n",
              "      <td>0</td>\n",
              "      <td>0</td>\n",
              "      <td>1</td>\n",
              "      <td>0</td>\n",
              "      <td>19-187</td>\n",
              "      <td>anger</td>\n",
              "    </tr>\n",
              "    <tr>\n",
              "      <th>3</th>\n",
              "      <td>4</td>\n",
              "      <td>0.98</td>\n",
              "      <td>1</td>\n",
              "      <td>0.81</td>\n",
              "      <td>0.00</td>\n",
              "      <td>0.36</td>\n",
              "      <td>0.11</td>\n",
              "      <td>0.37</td>\n",
              "      <td>0.00</td>\n",
              "      <td>0.0</td>\n",
              "      <td>...</td>\n",
              "      <td>0</td>\n",
              "      <td>0</td>\n",
              "      <td>0</td>\n",
              "      <td>1</td>\n",
              "      <td>0</td>\n",
              "      <td>0</td>\n",
              "      <td>0</td>\n",
              "      <td>1</td>\n",
              "      <td>19-203</td>\n",
              "      <td>sadness</td>\n",
              "    </tr>\n",
              "    <tr>\n",
              "      <th>4</th>\n",
              "      <td>5</td>\n",
              "      <td>0.98</td>\n",
              "      <td>1</td>\n",
              "      <td>1.18</td>\n",
              "      <td>0.00</td>\n",
              "      <td>0.41</td>\n",
              "      <td>0.00</td>\n",
              "      <td>0.40</td>\n",
              "      <td>0.00</td>\n",
              "      <td>0.0</td>\n",
              "      <td>...</td>\n",
              "      <td>0</td>\n",
              "      <td>0</td>\n",
              "      <td>0</td>\n",
              "      <td>1</td>\n",
              "      <td>0</td>\n",
              "      <td>0</td>\n",
              "      <td>0</td>\n",
              "      <td>1</td>\n",
              "      <td>19-260</td>\n",
              "      <td>sadness</td>\n",
              "    </tr>\n",
              "    <tr>\n",
              "      <th>...</th>\n",
              "      <td>...</td>\n",
              "      <td>...</td>\n",
              "      <td>...</td>\n",
              "      <td>...</td>\n",
              "      <td>...</td>\n",
              "      <td>...</td>\n",
              "      <td>...</td>\n",
              "      <td>...</td>\n",
              "      <td>...</td>\n",
              "      <td>...</td>\n",
              "      <td>...</td>\n",
              "      <td>...</td>\n",
              "      <td>...</td>\n",
              "      <td>...</td>\n",
              "      <td>...</td>\n",
              "      <td>...</td>\n",
              "      <td>...</td>\n",
              "      <td>...</td>\n",
              "      <td>...</td>\n",
              "      <td>...</td>\n",
              "      <td>...</td>\n",
              "    </tr>\n",
              "    <tr>\n",
              "      <th>195</th>\n",
              "      <td>196</td>\n",
              "      <td>0.77</td>\n",
              "      <td>1</td>\n",
              "      <td>1.47</td>\n",
              "      <td>0.96</td>\n",
              "      <td>0.00</td>\n",
              "      <td>0.21</td>\n",
              "      <td>0.12</td>\n",
              "      <td>0.35</td>\n",
              "      <td>0.0</td>\n",
              "      <td>...</td>\n",
              "      <td>0</td>\n",
              "      <td>0</td>\n",
              "      <td>0</td>\n",
              "      <td>0</td>\n",
              "      <td>0</td>\n",
              "      <td>0</td>\n",
              "      <td>0</td>\n",
              "      <td>0</td>\n",
              "      <td>f6068</td>\n",
              "      <td>happiness</td>\n",
              "    </tr>\n",
              "    <tr>\n",
              "      <th>196</th>\n",
              "      <td>197</td>\n",
              "      <td>0.77</td>\n",
              "      <td>1</td>\n",
              "      <td>0.88</td>\n",
              "      <td>0.63</td>\n",
              "      <td>0.00</td>\n",
              "      <td>0.21</td>\n",
              "      <td>0.79</td>\n",
              "      <td>0.57</td>\n",
              "      <td>0.0</td>\n",
              "      <td>...</td>\n",
              "      <td>0</td>\n",
              "      <td>1</td>\n",
              "      <td>0</td>\n",
              "      <td>1</td>\n",
              "      <td>0</td>\n",
              "      <td>0</td>\n",
              "      <td>0</td>\n",
              "      <td>0</td>\n",
              "      <td>f8073</td>\n",
              "      <td>happiness</td>\n",
              "    </tr>\n",
              "    <tr>\n",
              "      <th>197</th>\n",
              "      <td>198</td>\n",
              "      <td>0.98</td>\n",
              "      <td>1</td>\n",
              "      <td>0.90</td>\n",
              "      <td>1.09</td>\n",
              "      <td>0.00</td>\n",
              "      <td>0.00</td>\n",
              "      <td>0.87</td>\n",
              "      <td>0.22</td>\n",
              "      <td>0.0</td>\n",
              "      <td>...</td>\n",
              "      <td>0</td>\n",
              "      <td>0</td>\n",
              "      <td>0</td>\n",
              "      <td>0</td>\n",
              "      <td>1</td>\n",
              "      <td>1</td>\n",
              "      <td>0</td>\n",
              "      <td>0</td>\n",
              "      <td>f8204</td>\n",
              "      <td>contempt</td>\n",
              "    </tr>\n",
              "    <tr>\n",
              "      <th>198</th>\n",
              "      <td>199</td>\n",
              "      <td>0.98</td>\n",
              "      <td>1</td>\n",
              "      <td>2.10</td>\n",
              "      <td>1.41</td>\n",
              "      <td>0.15</td>\n",
              "      <td>0.49</td>\n",
              "      <td>0.75</td>\n",
              "      <td>0.22</td>\n",
              "      <td>0.0</td>\n",
              "      <td>...</td>\n",
              "      <td>0</td>\n",
              "      <td>1</td>\n",
              "      <td>0</td>\n",
              "      <td>1</td>\n",
              "      <td>0</td>\n",
              "      <td>1</td>\n",
              "      <td>0</td>\n",
              "      <td>0</td>\n",
              "      <td>f12427</td>\n",
              "      <td>happiness</td>\n",
              "    </tr>\n",
              "    <tr>\n",
              "      <th>199</th>\n",
              "      <td>200</td>\n",
              "      <td>0.98</td>\n",
              "      <td>1</td>\n",
              "      <td>3.92</td>\n",
              "      <td>2.20</td>\n",
              "      <td>0.44</td>\n",
              "      <td>1.47</td>\n",
              "      <td>0.00</td>\n",
              "      <td>0.00</td>\n",
              "      <td>0.0</td>\n",
              "      <td>...</td>\n",
              "      <td>1</td>\n",
              "      <td>1</td>\n",
              "      <td>0</td>\n",
              "      <td>1</td>\n",
              "      <td>0</td>\n",
              "      <td>0</td>\n",
              "      <td>0</td>\n",
              "      <td>0</td>\n",
              "      <td>f12751</td>\n",
              "      <td>contempt</td>\n",
              "    </tr>\n",
              "  </tbody>\n",
              "</table>\n",
              "<p>200 rows × 40 columns</p>\n",
              "</div>"
            ],
            "text/plain": [
              "     frame  confidence  success  AU01_r  AU02_r  AU04_r  AU05_r  AU06_r  \\\n",
              "0        1        0.98        1    0.70    0.00    0.28    0.00    0.00   \n",
              "1        2        0.88        1    0.42    0.00    0.44    0.11    0.00   \n",
              "2        3        0.98        1    0.61    0.00    0.47    0.11    0.20   \n",
              "3        4        0.98        1    0.81    0.00    0.36    0.11    0.37   \n",
              "4        5        0.98        1    1.18    0.00    0.41    0.00    0.40   \n",
              "..     ...         ...      ...     ...     ...     ...     ...     ...   \n",
              "195    196        0.77        1    1.47    0.96    0.00    0.21    0.12   \n",
              "196    197        0.77        1    0.88    0.63    0.00    0.21    0.79   \n",
              "197    198        0.98        1    0.90    1.09    0.00    0.00    0.87   \n",
              "198    199        0.98        1    2.10    1.41    0.15    0.49    0.75   \n",
              "199    200        0.98        1    3.92    2.20    0.44    1.47    0.00   \n",
              "\n",
              "     AU07_r  AU09_r  ...  AU15_c  AU17_c  AU20_c  AU23_c  AU25_c  AU26_c  \\\n",
              "0      0.00     0.0  ...       0       1       0       1       0       0   \n",
              "1      0.11     0.0  ...       0       1       0       0       1       1   \n",
              "2      0.11     0.0  ...       0       0       1       0       0       0   \n",
              "3      0.00     0.0  ...       0       0       0       1       0       0   \n",
              "4      0.00     0.0  ...       0       0       0       1       0       0   \n",
              "..      ...     ...  ...     ...     ...     ...     ...     ...     ...   \n",
              "195    0.35     0.0  ...       0       0       0       0       0       0   \n",
              "196    0.57     0.0  ...       0       1       0       1       0       0   \n",
              "197    0.22     0.0  ...       0       0       0       0       1       1   \n",
              "198    0.22     0.0  ...       0       1       0       1       0       1   \n",
              "199    0.00     0.0  ...       1       1       0       1       0       0   \n",
              "\n",
              "     AU28_c  AU45_c  filename  labels_AMY  \n",
              "0         0       1     19-79       anger  \n",
              "1         0       0    19-126       anger  \n",
              "2         1       0    19-187       anger  \n",
              "3         0       1    19-203     sadness  \n",
              "4         0       1    19-260     sadness  \n",
              "..      ...     ...       ...         ...  \n",
              "195       0       0     f6068   happiness  \n",
              "196       0       0     f8073   happiness  \n",
              "197       0       0     f8204    contempt  \n",
              "198       0       0    f12427   happiness  \n",
              "199       0       0    f12751    contempt  \n",
              "\n",
              "[200 rows x 40 columns]"
            ]
          },
          "execution_count": 31,
          "metadata": {},
          "output_type": "execute_result"
        }
      ],
      "source": [
        "AUE"
      ]
    },
    {
      "cell_type": "code",
      "execution_count": null,
      "id": "false-calendar",
      "metadata": {
        "id": "false-calendar"
      },
      "outputs": [],
      "source": [
        "data = []\n",
        "labels = []\n",
        "for i in range(len(AUE)):\n",
        "    if(AUE.iloc[i,2]==1):\n",
        "        data.append(AUE.iloc[i,3:20])\n",
        "        labels.append(AUE.iloc[i,-1])\n"
      ]
    },
    {
      "cell_type": "code",
      "execution_count": null,
      "id": "convinced-hawaii",
      "metadata": {
        "id": "convinced-hawaii"
      },
      "outputs": [],
      "source": [
        "data = np.array(data)"
      ]
    },
    {
      "cell_type": "code",
      "execution_count": null,
      "id": "joined-litigation",
      "metadata": {
        "id": "joined-litigation",
        "outputId": "daffc5a4-f98e-4660-c829-d68767bdc327"
      },
      "outputs": [
        {
          "data": {
            "text/plain": [
              "(198, 17)"
            ]
          },
          "execution_count": 207,
          "metadata": {},
          "output_type": "execute_result"
        }
      ],
      "source": [
        "data.shape"
      ]
    },
    {
      "cell_type": "code",
      "execution_count": null,
      "id": "still-attribute",
      "metadata": {
        "id": "still-attribute"
      },
      "outputs": [],
      "source": [
        "ylabels = []\n",
        "for i in labels:\n",
        "    if(i == 'anger'):\n",
        "        ylabels.append(0)\n",
        "    elif (i == 'contempt'):\n",
        "        ylabels.append(1)\n",
        "    elif (i == 'disgust'):\n",
        "        ylabels.append(2)\n",
        "    elif (i == 'fear'):\n",
        "        ylabels.append(3)\n",
        "    elif (i == 'happiness'):\n",
        "        ylabels.append(4)\n",
        "    elif (i == 'neutral'):\n",
        "        ylabels.append(5)\n",
        "    elif (i == 'sadness'):\n",
        "        ylabels.append(6)\n",
        "    elif (i =='surprise'):\n",
        "        ylabels.append(7)\n",
        "ylabels = np.array(ylabels)\n",
        "print(ylabels)"
      ]
    },
    {
      "cell_type": "code",
      "execution_count": null,
      "id": "breeding-jaguar",
      "metadata": {
        "id": "breeding-jaguar"
      },
      "outputs": [],
      "source": [
        "pca = PCA(n_components=3)\n",
        "pca_res = pca.fit_transform(data)\n",
        "colors = ['blue', 'red', 'green', 'black', 'grey', 'purple', 'yellow', 'orange']\n",
        "classes = ['anger', 'contempt', 'disgust', 'fear', 'happiness', 'neutral', 'sadness', 'surprise']\n",
        "classes2 = ['negative','positive','neutral']"
      ]
    },
    {
      "cell_type": "code",
      "execution_count": null,
      "id": "irish-depth",
      "metadata": {
        "id": "irish-depth",
        "outputId": "4ee21726-cf1b-4021-995f-52c7b0e3fcd3"
      },
      "outputs": [
        {
          "data": {
            "image/png": "[encoded data removed]",
            "text/plain": [
              "<Figure size 432x288 with 1 Axes>"
            ]
          },
          "metadata": {
            "needs_background": "light"
          },
          "output_type": "display_data"
        }
      ],
      "source": [
        "#fig = plt.figure(figsize = (10, 7))\n",
        "#ax = plt.axes(projection =\"3d\")\n",
        "scatter = plt.scatter(pca_res[:,0],pca_res[:,1],c=ylabels,cmap=matplotlib.colors.ListedColormap(colors))\n",
        "plt.legend(handles=scatter.legend_elements()[0], labels=classes, bbox_to_anchor=(1.3, 1.0))\n",
        "plt.title('AU')\n",
        "plt.show()"
      ]
    },
    {
      "cell_type": "code",
      "execution_count": null,
      "id": "interstate-spelling",
      "metadata": {
        "id": "interstate-spelling"
      },
      "outputs": [],
      "source": [
        "pca_res2 = pca.fit_transform(x_new_train)"
      ]
    },
    {
      "cell_type": "code",
      "execution_count": null,
      "id": "palestinian-arena",
      "metadata": {
        "scrolled": true,
        "id": "palestinian-arena",
        "outputId": "2eb722b2-9ec9-4506-b6ee-a4046c633497"
      },
      "outputs": [
        {
          "data": {
            "image/png": "[encoded data removed]",
            "text/plain": [
              "<Figure size 432x288 with 1 Axes>"
            ]
          },
          "metadata": {
            "needs_background": "light"
          },
          "output_type": "display_data"
        }
      ],
      "source": [
        "scatter = plt.scatter(pca_res2[:,0],pca_res2[:,1],c=y_new_train,cmap=matplotlib.colors.ListedColormap(colors))\n",
        "plt.legend(handles=scatter.legend_elements()[0], labels=classes, bbox_to_anchor=(1.3, 1.0))\n",
        "plt.title('Landmarks')\n",
        "plt.show()"
      ]
    },
    {
      "cell_type": "markdown",
      "id": "traditional-boston",
      "metadata": {
        "id": "traditional-boston"
      },
      "source": [
        "Negative=0\n",
        "Positive=1\n",
        "Neutral=2"
      ]
    },
    {
      "cell_type": "code",
      "execution_count": null,
      "id": "ambient-yugoslavia",
      "metadata": {
        "id": "ambient-yugoslavia"
      },
      "outputs": [],
      "source": [
        "few_labels = []\n",
        "for i in labels:\n",
        "    if(i == 'anger' or i=='contempt' or i=='disgust' or i=='fear' or i=='sadness'):\n",
        "        few_labels.append(0)\n",
        "    elif (i == 'happiness' or i=='surprise'):\n",
        "        few_labels.append(1)\n",
        "    elif (i == 'neutral'):\n",
        "        few_labels.append(2)\n",
        "few_labels = np.array(few_labels)\n",
        "print(few_labels)"
      ]
    },
    {
      "cell_type": "code",
      "execution_count": null,
      "id": "mature-canal",
      "metadata": {
        "id": "mature-canal",
        "outputId": "a38a6885-4663-41ac-ac56-b6d010eddea6"
      },
      "outputs": [
        {
          "data": {
            "image/png": "[encoded data removed]",
            "text/plain": [
              "<Figure size 432x288 with 1 Axes>"
            ]
          },
          "metadata": {
            "needs_background": "light"
          },
          "output_type": "display_data"
        }
      ],
      "source": [
        "#fig = plt.figure(figsize = (10, 7))\n",
        "#ax = plt.axes(projection =\"3d\")\n",
        "scatter = plt.scatter(pca_res[:,0],pca_res[:,1],c=few_labels,cmap=matplotlib.colors.ListedColormap(colors))\n",
        "plt.legend(handles=scatter.legend_elements()[0], labels=classes2, bbox_to_anchor=(1.3, 1.0))\n",
        "plt.title('AU')\n",
        "plt.show()"
      ]
    },
    {
      "cell_type": "code",
      "execution_count": null,
      "id": "stainless-place",
      "metadata": {
        "id": "stainless-place"
      },
      "outputs": [],
      "source": [
        "#Clustering on Landmarks (K-means)\n",
        "from sklearn.cluster import KMeans"
      ]
    },
    {
      "cell_type": "code",
      "execution_count": null,
      "id": "devoted-aaron",
      "metadata": {
        "id": "devoted-aaron"
      },
      "outputs": [],
      "source": [
        "kmeans = KMeans(n_clusters=3, random_state=0).fit(x_new_train)"
      ]
    },
    {
      "cell_type": "code",
      "execution_count": null,
      "id": "incredible-pantyhose",
      "metadata": {
        "id": "incredible-pantyhose",
        "outputId": "867c1a62-1d8a-453d-e817-3700a2195d7d"
      },
      "outputs": [
        {
          "data": {
            "text/plain": [
              "array([1, 2, 2, 2, 2, 2, 1, 2, 1, 1, 2, 2, 2, 2, 2, 2, 2, 2, 2, 2, 2, 2,\n",
              "       2, 2, 2, 1, 1, 1, 1, 0, 0, 1, 1, 1, 1, 1, 1, 1, 2, 2, 0, 0, 0, 0,\n",
              "       0, 2, 2, 2, 2, 1, 1, 2, 1, 1, 1, 1, 2, 2, 1, 1, 0, 0, 1, 0, 0, 2,\n",
              "       1, 1, 1, 2, 1, 1, 2, 2, 2, 2, 0, 2, 2, 2, 2, 2, 1, 1, 1, 1, 1, 1,\n",
              "       1, 1, 1, 1, 1, 1, 1, 2, 2, 2, 2, 2, 2, 2, 1, 2, 1, 2, 2, 2, 2, 2,\n",
              "       2, 2, 2, 1, 1, 1, 1, 1, 2, 2, 2, 2, 2, 0, 1, 1, 1, 1, 1, 1, 1, 1,\n",
              "       1, 1, 1, 1, 1, 1, 0, 1, 0, 1, 0, 0, 1, 2, 2, 2, 0, 2, 0, 2, 1, 1,\n",
              "       1, 0, 2, 2, 2, 2, 2, 2, 2, 1, 2, 1])"
            ]
          },
          "execution_count": 39,
          "metadata": {},
          "output_type": "execute_result"
        }
      ],
      "source": [
        "kmeans.labels_"
      ]
    },
    {
      "cell_type": "code",
      "execution_count": null,
      "id": "subtle-focus",
      "metadata": {
        "id": "subtle-focus",
        "outputId": "a911fbc4-8914-42ef-9d35-d67860a1fbe5"
      },
      "outputs": [
        {
          "data": {
            "text/plain": [
              "array([0, 0, 0, 0, 0, 0, 0, 0, 0, 0, 0, 0, 0, 0, 0, 0, 0, 0, 0, 0, 0, 0,\n",
              "       0, 0, 0, 0, 0, 0, 0, 0, 0, 0, 0, 0, 0, 0, 0, 0, 0, 0, 0, 0, 0, 0,\n",
              "       0, 0, 0, 0, 0, 0, 0, 0, 0, 0, 0, 0, 0, 0, 0, 0, 0, 0, 0, 0, 0, 0,\n",
              "       0, 0, 0, 0, 1, 1, 1, 1, 1, 1, 1, 1, 1, 1, 1, 1, 1, 1, 1, 1, 1, 1,\n",
              "       1, 1, 1, 1, 1, 1, 1, 1, 1, 1, 1, 1, 1, 2, 2, 2, 2, 2, 2, 2, 2, 2,\n",
              "       2, 2, 2, 2, 2, 2, 2, 2, 2, 2, 2, 2, 2, 2, 2, 2, 2, 2, 2, 2, 2, 2,\n",
              "       2, 2, 2, 2, 2, 2, 2, 2, 2, 2, 2, 2, 2, 2, 2, 2, 2, 2, 2, 0, 0, 0,\n",
              "       0, 0, 0, 0, 0, 1, 1, 1, 1, 1, 1, 1])"
            ]
          },
          "execution_count": 40,
          "metadata": {},
          "output_type": "execute_result"
        }
      ],
      "source": [
        "few_labels_LM"
      ]
    },
    {
      "cell_type": "markdown",
      "id": "sharp-enough",
      "metadata": {
        "id": "sharp-enough"
      },
      "source": [
        "Negative = 0 Positive = 1 Neutral 2"
      ]
    },
    {
      "cell_type": "code",
      "execution_count": null,
      "id": "finished-medline",
      "metadata": {
        "id": "finished-medline",
        "outputId": "6a8de4ba-278d-4191-e9d9-cb085e4e623f"
      },
      "outputs": [
        {
          "name": "stdout",
          "output_type": "stream",
          "text": [
            "[0 0 0 0 0 0 0 0 0 0 0 0 0 0 0 0 0 0 0 0 0 0 0 0 0 0 0 0 0 0 0 0 0 0 0 0 0\n",
            " 0 0 0 0 0 0 0 0 0 0 0 0 0 0 0 0 0 0 0 0 0 0 0 0 0 0 0 0 0 0 0 0 0 1 1 1 1\n",
            " 1 1 1 1 1 1 1 1 1 1 1 1 1 1 1 1 1 1 1 1 1 1 1 1 1 1 1 2 2 2 2 2 2 2 2 2 2\n",
            " 2 2 2 2 2 2 2 2 2 2 2 2 2 2 2 2 2 2 2 2 2 2 2 2 2 2 2 2 2 2 2 2 2 2 2 2 2\n",
            " 2 2 2 0 0 0 0 0 0 0 0 1 1 1 1 1 1 1]\n"
          ]
        }
      ],
      "source": [
        "few_labels_LM = []\n",
        "for i in y_new_train:\n",
        "    if(i == 0 or i==1 or i==2 or i==3 or i==6):\n",
        "        few_labels_LM.append(0)\n",
        "    elif (i == 4 or i==7):\n",
        "        few_labels_LM.append(1)\n",
        "    elif (i == 5):\n",
        "        few_labels_LM.append(2)\n",
        "few_labels_LM = np.array(few_labels_LM)\n",
        "print(few_labels_LM)"
      ]
    },
    {
      "cell_type": "code",
      "execution_count": null,
      "id": "looking-charge",
      "metadata": {
        "id": "looking-charge",
        "outputId": "05703291-7039-4b9c-86d9-b2b63f61b3e3"
      },
      "outputs": [
        {
          "name": "stdout",
          "output_type": "stream",
          "text": [
            "[6 0 0 0 0 0 0 0 0 0 0 0 0 0 0 0 5 5 5 5 5 0 0 5 5 6 4 6 6 7 1 6 6 6 2 2 6\n",
            " 2 0 0 7 7 7 7 7 5 5 5 3 6 6 6 6 6 4 4 3 3 4 4 7 7 2 7 7 5 6 6 2 3 0 6 0 0\n",
            " 0 0 1 5 0 3 0 5 2 6 4 4 4 4 4 4 4 4 4 4 6 3 3 3 3 3 3 0 6 0 6 0 0 3 5 5 0\n",
            " 0 0 6 6 6 2 6 5 5 5 5 0 1 4 4 6 6 6 2 2 6 6 6 6 2 6 2 7 2 7 2 1 2 6 3 3 5\n",
            " 1 3 1 0 0 6 6 1 5 0 5 3 3 5 5 2 5 6]\n"
          ]
        }
      ],
      "source": [
        "kmeans2 = KMeans(n_clusters=8, random_state=0).fit(x_new_train)\n",
        "print(kmeans2.labels_)"
      ]
    },
    {
      "cell_type": "code",
      "execution_count": null,
      "id": "talented-arrest",
      "metadata": {
        "scrolled": true,
        "id": "talented-arrest",
        "outputId": "c61794d3-440b-4821-c1f4-5c8e6ed84f4c"
      },
      "outputs": [
        {
          "data": {
            "text/plain": [
              "array([0, 0, 0, 0, 0, 0, 0, 0, 0, 0, 0, 0, 0, 0, 0, 0, 0, 0, 0, 0, 0, 0,\n",
              "       0, 0, 0, 0, 0, 0, 0, 0, 0, 0, 0, 0, 0, 0, 0, 0, 1, 1, 1, 1, 1, 1,\n",
              "       1, 1, 1, 1, 1, 1, 1, 1, 1, 1, 1, 1, 1, 1, 2, 2, 2, 2, 2, 2, 2, 2,\n",
              "       3, 3, 3, 3, 4, 4, 4, 4, 4, 4, 4, 4, 4, 4, 4, 4, 4, 4, 4, 4, 4, 4,\n",
              "       4, 4, 4, 4, 4, 4, 4, 4, 4, 4, 4, 4, 4, 5, 5, 5, 5, 5, 5, 5, 5, 5,\n",
              "       5, 5, 5, 5, 5, 5, 5, 5, 5, 5, 5, 5, 5, 5, 5, 5, 5, 5, 5, 5, 5, 5,\n",
              "       5, 5, 5, 5, 5, 5, 5, 5, 5, 5, 5, 5, 5, 5, 5, 5, 5, 5, 5, 6, 6, 6,\n",
              "       6, 6, 6, 6, 6, 7, 7, 7, 7, 7, 7, 7])"
            ]
          },
          "execution_count": 42,
          "metadata": {},
          "output_type": "execute_result"
        }
      ],
      "source": [
        "y_new_train"
      ]
    },
    {
      "cell_type": "code",
      "execution_count": null,
      "id": "fuzzy-hobby",
      "metadata": {
        "id": "fuzzy-hobby",
        "outputId": "1b3a3bae-a5ae-4d50-edb0-6cb0c364c230"
      },
      "outputs": [
        {
          "name": "stdout",
          "output_type": "stream",
          "text": [
            "0.2289156626506024\n"
          ]
        }
      ],
      "source": [
        "n = 0\n",
        "for i in range(len(y_new_train)):\n",
        "    if(y_new_train[i]==kmeans2.labels_[i]):\n",
        "        n+=1\n",
        "print(n/len(y_new_train))        \n",
        "    "
      ]
    },
    {
      "cell_type": "code",
      "execution_count": null,
      "id": "organizational-implementation",
      "metadata": {
        "id": "organizational-implementation",
        "outputId": "75de56fd-633a-419a-bdc8-c087387b105a"
      },
      "outputs": [
        {
          "name": "stdout",
          "output_type": "stream",
          "text": [
            "0.2891566265060241\n"
          ]
        }
      ],
      "source": [
        "n = 0\n",
        "for i in range(len(y_new_train)):\n",
        "    if(few_labels_LM[i]==kmeans.labels_[i]):\n",
        "        n+=1\n",
        "print(n/len(y_new_train))        \n",
        "    "
      ]
    },
    {
      "cell_type": "code",
      "execution_count": null,
      "id": "attractive-location",
      "metadata": {
        "id": "attractive-location"
      },
      "outputs": [],
      "source": [
        ""
      ]
    }
  ],
  "metadata": {
    "kernelspec": {
      "display_name": "Python 3",
      "language": "python",
      "name": "python3"
    },
    "language_info": {
      "codemirror_mode": {
        "name": "ipython",
        "version": 3
      },
      "file_extension": ".py",
      "mimetype": "text/x-python",
      "name": "python",
      "nbconvert_exporter": "python",
      "pygments_lexer": "ipython3",
      "version": "3.6.12"
    },
    "colab": {
      "name": "FaceAPI_Clustering.ipynb",
      "provenance": []
    }
  },
  "nbformat": 4,
  "nbformat_minor": 5
}