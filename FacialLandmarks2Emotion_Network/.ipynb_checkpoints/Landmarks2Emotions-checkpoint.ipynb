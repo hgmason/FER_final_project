{
 "cells": [
  {
   "cell_type": "code",
   "execution_count": 1,
   "id": "above-smoke",
   "metadata": {},
   "outputs": [],
   "source": [
    "import torch\n",
    "import torch.nn as nn\n",
    "import numpy as np\n",
    "from PIL import Image\n",
    "from matplotlib import pyplot as plt\n",
    "import pickle\n",
    "import time\n",
    "import csv"
   ]
  },
  {
   "cell_type": "code",
   "execution_count": 2,
   "id": "dress-valentine",
   "metadata": {},
   "outputs": [],
   "source": [
    "D = []\n",
    "with open('../Creating_Facial_Landmarks/Landmarks2.csv', newline='') as csvfile:\n",
    "    spamreader = csv.reader(csvfile, delimiter=',', quotechar='\"')\n",
    "    for row in spamreader:\n",
    "        d = {}\n",
    "        landmarks = row[1]\n",
    "        landmarks = landmarks.replace(\" [\", \"\").replace(\"[\", \"\").replace(\",\", \"\")\n",
    "        landmarks = landmarks.split(\"]\")\n",
    "        LL = []\n",
    "        for landmark in landmarks:\n",
    "            try:\n",
    "                ll = [float(l) for l in landmark.split(\" \")]\n",
    "                LL.append(ll)\n",
    "            except:\n",
    "                pass\n",
    "        if len(LL) > 0:\n",
    "            LL = np.array(LL)\n",
    "            #do the regular one\n",
    "            d['landmarks'] = np.array(LL).flatten()\n",
    "            d['emotion'] = row[2].replace(\"[\", \"\").replace(\"]\", \"\").replace(\"'\", \"\")\n",
    "            D.append(d)\n",
    "            #do the flipped ones\n",
    "            d = {}\n",
    "            m = LL[:,0].mean()\n",
    "            LL[:,0] = -(LL[:,0] - m) + m\n",
    "            d['landmarks'] = np.array(LL).flatten()\n",
    "            d['emotion'] = row[2].replace(\"[\", \"\").replace(\"]\", \"\").replace(\"'\", \"\")\n",
    "            D.append(d)"
   ]
  },
  {
   "cell_type": "code",
   "execution_count": 3,
   "id": "million-encounter",
   "metadata": {},
   "outputs": [],
   "source": [
    "class MLP(nn.Module):\n",
    "    def __init__(self,architecture=[1,100,1],activation='sigmoid'):\n",
    "        super(MLP, self).__init__()      \n",
    "        self.architecture=architecture\n",
    "        if activation=='sigmoid':\n",
    "            self.activation=nn.Sigmoid()\n",
    "        elif activation=='relu':\n",
    "            self.activation=nn.ReLU()\n",
    "        else:\n",
    "            print('Activation not recognized! Using LeakyReLU instead.')\n",
    "            self.activation=nn.LeakyReLU()\n",
    "        arch=[]\n",
    "        for i in range(1,len(architecture)-1):\n",
    "            arch.append(nn.Linear(architecture[i-1],architecture[i]))            \n",
    "            arch.append(self.activation)\n",
    "        self.basis=nn.Sequential(*arch)\n",
    "        self.regressor=nn.Linear(architecture[-2],architecture[-1])\n",
    "\n",
    "    def forward(self,f):            \n",
    "        assert f.shape[1]==self.architecture[0]\n",
    "        z=self.basis(f)\n",
    "        out=self.regressor(z)\n",
    "        return out"
   ]
  },
  {
   "cell_type": "code",
   "execution_count": 4,
   "id": "special-tribune",
   "metadata": {},
   "outputs": [],
   "source": [
    "all_emotions = False\n",
    "noise = False\n",
    "\n",
    "good = [\"happiness\", \"surprise\"]\n",
    "neutral = [\"neutral\"]\n",
    "bad = [\"contempt\", \"anger\", \"sadness\", \"disgust\", \"fear\"]\n",
    "\n",
    "for d in D:\n",
    "    emotion = d['emotion']\n",
    "    if not all_emotions:\n",
    "        if emotion in good:\n",
    "            d['emotion'] = \"good\"\n",
    "        elif emotion in neutral:\n",
    "            d['emotion'] = \"neutral\"\n",
    "        elif emotion in bad:\n",
    "            d['emotion'] = \"bad\""
   ]
  },
  {
   "cell_type": "code",
   "execution_count": 5,
   "id": "retired-belfast",
   "metadata": {},
   "outputs": [
    {
     "name": "stdout",
     "output_type": "stream",
     "text": [
      "Data points: 332\n",
      "Number action units: 136\n",
      "emotions: ['neutral', 'good', 'bad']\n",
      "\n",
      "Size training label: (232,)\n",
      "Size testing label: (50,)\n",
      "Size valid label: (50,)\n"
     ]
    }
   ],
   "source": [
    "device = \"cuda\"\n",
    "#get specs\n",
    "N = len(D)\n",
    "AU_N = len(D[0]['landmarks'])\n",
    "emotions = list(set([d['emotion'] for d in D]))\n",
    "emotion_N = len(emotions)\n",
    "emotion_dict = {}\n",
    "for i in range(emotion_N):\n",
    "    emotion_dict[emotions[i]] = i\n",
    "print(\"Data points:\", N)\n",
    "print(\"Number action units:\", AU_N)\n",
    "print(\"emotions:\", emotions)\n",
    "print()\n",
    "\n",
    "train_N = int(N*.7)\n",
    "test_N = (N - train_N)//2\n",
    "valid_N = N - test_N - train_N\n",
    "\n",
    "idx = torch.randperm(N)\n",
    "train_idx = idx[0:train_N]\n",
    "test_idx = idx[train_N:-valid_N]\n",
    "valid_idx = idx[train_N + valid_N:]\n",
    "\n",
    "#format data\n",
    "data = torch.zeros((N, AU_N)).type(torch.float32).to(device) #200 by 35\n",
    "label = torch.zeros((N, 1)).type(torch.long).to(device) #200 by 1\n",
    "for i in range(N):\n",
    "    for j in range(AU_N):\n",
    "        data[i, j] = D[i][\"landmarks\"][j]\n",
    "    label[i, 0] = emotion_dict[D[i][\"emotion\"]]\n",
    "\n",
    "#split into sets\n",
    "train_data = data[train_idx, :]\n",
    "test_data = data[test_idx, :]\n",
    "valid_data = data[valid_idx, :]\n",
    "train_label = label[train_idx, 0]\n",
    "test_label = label[test_idx, 0]\n",
    "valid_label = label[valid_idx, 0]\n",
    "\n",
    "#print(\"Size training data:\", train_data.cpu().numpy().shape)\n",
    "#print(\"Size testing data:\", test_data.cpu().numpy().shape)\n",
    "#print(\"Size valid data:\", valid_data.cpu().numpy().shape)\n",
    "print(\"Size training label:\", train_label.cpu().numpy().shape)\n",
    "print(\"Size testing label:\", test_label.cpu().numpy().shape)\n",
    "print(\"Size valid label:\", valid_label.cpu().numpy().shape)"
   ]
  },
  {
   "cell_type": "code",
   "execution_count": 6,
   "id": "demographic-gateway",
   "metadata": {},
   "outputs": [
    {
     "name": "stdout",
     "output_type": "stream",
     "text": [
      "all\n",
      "\t neutral : 100 : 30.12 %\n",
      "\t good : 76 : 22.89 %\n",
      "\t bad : 156 : 46.99 %\n",
      "train\n",
      "\t neutral : 66 : 28.45 %\n",
      "\t good : 52 : 22.41 %\n",
      "\t bad : 114 : 49.14 %\n",
      "valid\n",
      "\t neutral : 16 : 32.0 %\n",
      "\t good : 8 : 16.0 %\n",
      "\t bad : 26 : 52.0 %\n",
      "test\n",
      "\t neutral : 18 : 36.0 %\n",
      "\t good : 16 : 32.0 %\n",
      "\t bad : 16 : 32.0 %\n"
     ]
    }
   ],
   "source": [
    "#see how many of each emotion there are in each dataset\n",
    "n_dict = {}\n",
    "size_dict = {}\n",
    "for key in [\"all\",\"train\",\"valid\",\"test\"]:\n",
    "    n_dict[key] = {}\n",
    "    size_dict[key] = 0\n",
    "\n",
    "for i in range(len(emotions)):\n",
    "    train_n = train_label.cpu().numpy().tolist().count(i)\n",
    "    valid_n = valid_label.cpu().numpy().tolist().count(i)\n",
    "    test_n = test_label.cpu().numpy().tolist().count(i)\n",
    "    n_dict[\"train\"][emotions[i]] = train_n\n",
    "    n_dict[\"valid\"][emotions[i]] = valid_n\n",
    "    n_dict[\"test\"][emotions[i]] = test_n\n",
    "    n_dict[\"all\"][emotions[i]] = train_n + valid_n + test_n\n",
    "    size_dict[\"train\"] += train_n\n",
    "    size_dict[\"valid\"] += valid_n\n",
    "    size_dict[\"test\"] += test_n\n",
    "    size_dict[\"all\"] += train_n + valid_n + test_n\n",
    "\n",
    "for key in [\"all\",\"train\",\"valid\",\"test\"]:\n",
    "    print(key)\n",
    "    size = size_dict[key]\n",
    "    for emotion in emotions:\n",
    "        n = n_dict[key][emotion]\n",
    "        print(\"\\t\",emotion,\":\", n, \":\", round(100*n/size, 2), \"%\")"
   ]
  },
  {
   "cell_type": "code",
   "execution_count": 7,
   "id": "laden-structure",
   "metadata": {},
   "outputs": [],
   "source": [
    "objective = torch.nn.CrossEntropyLoss()\n",
    "n_epochs = 50000\n",
    "lr = 0.005\n",
    "batch_size = 20\n",
    "batch_num = train_N//batch_size\n",
    "#arch = [AU_N, 100, 50, emotion_N]\n",
    "arch = [AU_N, 200, 200, 150, 100, 50, emotion_N]\n",
    "#arch = [AU_N, 100, emotion_N]\n",
    "model = MLP(arch)\n",
    "model.to(device)\n",
    "optim=torch.optim.Adam(model.parameters(),lr=lr)"
   ]
  },
  {
   "cell_type": "code",
   "execution_count": 8,
   "id": "marked-console",
   "metadata": {},
   "outputs": [],
   "source": [
    "def transform(batch_data):\n",
    "    if noise:\n",
    "        batch_data = batch_data + torch.randn(batch_data.shape).to(device)*.2\n",
    "    return batch_data\n",
    "\n",
    "def accuracy(pred, label):\n",
    "    pred = pred.cpu().detach().numpy()\n",
    "    label = label.cpu().detach().numpy()\n",
    "    pred_label = np.argmax(pred, axis = 1)\n",
    "    return (label == pred_label).mean()"
   ]
  },
  {
   "cell_type": "code",
   "execution_count": 9,
   "id": "blind-toilet",
   "metadata": {},
   "outputs": [
    {
     "name": "stdout",
     "output_type": "stream",
     "text": [
      "18.499528884887695 seconds\n"
     ]
    }
   ],
   "source": [
    "train_losses = []\n",
    "valid_losses = []\n",
    "\n",
    "start_time = time.time()\n",
    "for n in range(n_epochs):\n",
    "    #make batch\n",
    "    batch_idx = torch.randperm(train_N)[0:batch_size]\n",
    "    batch_data = train_data[batch_idx, :]\n",
    "    batch_data = transform(batch_data)\n",
    "    batch_label = train_label[batch_idx]\n",
    "    #make prediction\n",
    "    batch_pred = model(batch_data)\n",
    "    #get loss\n",
    "    train_loss = objective(batch_pred, batch_label)\n",
    "    train_losses.append(train_loss.item())\n",
    "    #optimizer step\n",
    "    optim.zero_grad()\n",
    "    train_loss.backward()\n",
    "    optim.step()\n",
    "    #do valid losses\n",
    "    with torch.no_grad():\n",
    "        valid_pred = model(valid_data)\n",
    "        valid_loss = objective(valid_pred, valid_label)\n",
    "        valid_losses.append(valid_loss.item())\n",
    "end_time = time.time()\n",
    "print(end_time - start_time, \"seconds\")"
   ]
  },
  {
   "cell_type": "code",
   "execution_count": 10,
   "id": "distributed-protection",
   "metadata": {},
   "outputs": [
    {
     "data": {
      "image/png": "[encoded data removed]",
      "text/plain": [
       "<Figure size 432x288 with 1 Axes>"
      ]
     },
     "metadata": {
      "needs_background": "light"
     },
     "output_type": "display_data"
    },
    {
     "name": "stdout",
     "output_type": "stream",
     "text": [
      "Architecture: [136, 200, 200, 200, 200, 150, 100, 50, 3]\n",
      "Num emotions: 3\n",
      "train accuracy: 0.49137931034482757\n",
      "valid accuracy: 0.52\n",
      "test accuracy: 0.32\n",
      "Num epochs: 5000\n",
      "Batch size: 20\n",
      "Noise added: False\n"
     ]
    }
   ],
   "source": [
    "plt.plot(np.log(train_losses))\n",
    "plt.plot(np.log(valid_losses))\n",
    "plt.title(\"log loss\")\n",
    "plt.legend([\"train\", \"valid\"])\n",
    "plt.show()\n",
    "\n",
    "with torch.no_grad():\n",
    "    train_pred = model(train_data)\n",
    "    test_pred = model(test_data)\n",
    "\n",
    "print(\"Architecture:\", arch)\n",
    "print(\"Num emotions:\", emotion_N)\n",
    "print(\"train accuracy:\",accuracy(train_pred, train_label))\n",
    "print(\"valid accuracy:\",accuracy(valid_pred, valid_label))\n",
    "print(\"test accuracy:\",accuracy(test_pred, test_label))\n",
    "print(\"Num epochs:\", n_epochs)\n",
    "print(\"Batch size:\", batch_size)\n",
    "print(\"Noise added:\", noise)"
   ]
  },
  {
   "cell_type": "code",
   "execution_count": null,
   "id": "coastal-latest",
   "metadata": {},
   "outputs": [],
   "source": []
  }
 ],
 "metadata": {
  "kernelspec": {
   "display_name": "Python 3",
   "language": "python",
   "name": "python3"
  },
  "language_info": {
   "codemirror_mode": {
    "name": "ipython",
    "version": 3
   },
   "file_extension": ".py",
   "mimetype": "text/x-python",
   "name": "python",
   "nbconvert_exporter": "python",
   "pygments_lexer": "ipython3",
   "version": "3.9.6"
  }
 },
 "nbformat": 4,
 "nbformat_minor": 5
}
