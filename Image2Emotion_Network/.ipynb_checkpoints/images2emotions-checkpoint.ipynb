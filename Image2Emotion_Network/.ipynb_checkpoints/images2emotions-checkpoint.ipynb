{
 "cells": [
  {
   "cell_type": "code",
   "execution_count": 1,
   "metadata": {
    "colab": {
     "base_uri": "https://localhost:8080/"
    },
    "id": "_ti0ipc7cE0R",
    "outputId": "7e420deb-543a-4aa8-9c68-36aecab71c35"
   },
   "outputs": [
    {
     "data": {
      "text/plain": [
       "['anger',\n",
       " 'contempt',\n",
       " 'disgust',\n",
       " 'fear',\n",
       " 'happiness',\n",
       " 'neutral',\n",
       " 'sadness',\n",
       " 'surprise']"
      ]
     },
     "execution_count": 1,
     "metadata": {},
     "output_type": "execute_result"
    }
   ],
   "source": [
    "import os\n",
    "dirname = r\"..\\Dataset\"\n",
    "os.listdir(dirname)"
   ]
  },
  {
   "cell_type": "code",
   "execution_count": 2,
   "metadata": {
    "id": "SIQCZAJfc2JV"
   },
   "outputs": [],
   "source": [
    "import torch\n",
    "from torch.utils.data import Dataset, DataLoader\n",
    "import numpy as np\n",
    "from PIL import Image\n",
    "import os\n",
    "import random\n",
    "\n",
    "import matplotlib.pyplot as plt\n",
    "import numpy as np\n",
    "import torch\n",
    "from torch import nn\n",
    "from torch import optim\n",
    "import torch.nn.functional as F\n",
    "from torchvision import datasets, transforms, models\n",
    "import time"
   ]
  },
  {
   "cell_type": "code",
   "execution_count": 3,
   "metadata": {
    "id": "YQFZ31argNSj"
   },
   "outputs": [],
   "source": [
    "class ImageDataset(Dataset):\n",
    "    def __init__(self, img_dir, test = False, simplified = False):\n",
    "        self.img_dir = img_dir\n",
    "        self.label_dirs = os.listdir(img_dir)\n",
    "        self.filenames = []\n",
    "        self.labels = []\n",
    "        label_c = -1\n",
    "        for label_dir in self.label_dirs:\n",
    "          label_c = label_c + 1\n",
    "          full_dir = os.path.join(img_dir, label_dir)\n",
    "          files = os.listdir(full_dir)\n",
    "          for file in files:\n",
    "            if \"frame\" in file and test:\n",
    "              full_filename = os.path.join(full_dir, file)\n",
    "              self.filenames.append(full_filename)\n",
    "              self.labels.append(label_c)\n",
    "            elif \"frame\" not in file and not test:\n",
    "              full_filename = os.path.join(full_dir, file)\n",
    "              self.filenames.append(full_filename)\n",
    "              self.labels.append(label_c)\n",
    "            \n",
    "        #happy is 4 and neutral is 5 and surprise is 7\n",
    "        if simplified:\n",
    "            for i in range(len(self.labels)):\n",
    "                if (self.labels[i] == 4) or (self.labels[i] == 7):\n",
    "                    self.labels[i] = 0\n",
    "                elif (self.labels[i] == 5):\n",
    "                    self.labels[i] = 1\n",
    "                else:\n",
    "                    self.labels[i] = 2\n",
    "            self.label_dirs = [\"positive\", \"neutral\", \"negative\"]\n",
    "        return\n",
    "\n",
    "    def transform(self, image):\n",
    "      return image\n",
    "\n",
    "    def __len__(self):\n",
    "        return len(self.filenames)\n",
    "\n",
    "    def __getitem__(self, idx):\n",
    "        img_path = self.filenames[idx]\n",
    "        image = np.array(Image.open(img_path).resize((200,150))).astype(float)/255\n",
    "        #image = image[:,:,0] + image[:,:,1] + image[:,:,2]\n",
    "        image = image.transpose((2, 0, 1))\n",
    "        image = torch.Tensor(image)\n",
    "        label = self.labels[idx]\n",
    "        label = torch.Tensor([label])[0].type(torch.LongTensor)\n",
    "        return image, label, img_path"
   ]
  },
  {
   "cell_type": "code",
   "execution_count": 4,
   "metadata": {
    "colab": {
     "base_uri": "https://localhost:8080/"
    },
    "id": "1fOmV8rgiMIF",
    "outputId": "5eab3270-b2f5-47de-d1de-7a2e858f3abf"
   },
   "outputs": [
    {
     "name": "stdout",
     "output_type": "stream",
     "text": [
      "Num training images: 170\n",
      "Num testing images: 30\n",
      "\n",
      "Training distribution:\n",
      "positive : 41\n",
      "neutral : 48\n",
      "negative : 81\n",
      "\n",
      "Testing distribution:\n",
      "positive : 9\n",
      "neutral : 10\n",
      "negative : 11\n"
     ]
    }
   ],
   "source": [
    "#make the training and testing sets\n",
    "simplified = True\n",
    "train_dataset = ImageDataset(dirname, test = False, simplified = simplified)\n",
    "train_loader = DataLoader(train_dataset, batch_size=2, shuffle=True)\n",
    "\n",
    "test_dataset = ImageDataset(dirname, test = True, simplified = simplified)\n",
    "test_loader = DataLoader(test_dataset, batch_size=1, shuffle=True)\n",
    "\n",
    "print(\"Num training images:\", len(train_dataset))\n",
    "print(\"Num testing images:\", len(test_dataset))\n",
    "print()\n",
    "\n",
    "num_classes = len(train_dataset.label_dirs)\n",
    "\n",
    "print(\"Training distribution:\")\n",
    "LL = []\n",
    "for images, labels, filenames in train_loader:\n",
    "    for label in labels:\n",
    "        L = label.item()\n",
    "        LL.append(L)\n",
    "for i in range(num_classes):\n",
    "    print(train_loader.dataset.label_dirs[i], \":\", LL.count(i))\n",
    "print()\n",
    "\n",
    "print(\"Testing distribution:\")\n",
    "LL = []\n",
    "for images, labels, filenames in test_loader:\n",
    "    for label in labels:\n",
    "        L = label.item()\n",
    "        LL.append(L)\n",
    "for i in range(num_classes):\n",
    "    print(train_loader.dataset.label_dirs[i], \":\", LL.count(i))"
   ]
  },
  {
   "cell_type": "code",
   "execution_count": 5,
   "metadata": {
    "id": "AI3HrY_vb6cK"
   },
   "outputs": [],
   "source": [
    "#make the model\n",
    "device = \"cuda\"\n",
    "model = models.resnet50()\n",
    "model.fc = nn.Sequential(nn.Linear(2048, 512),\n",
    "                                 nn.ReLU(),\n",
    "                                 nn.Dropout(0.2),\n",
    "                                 nn.Linear(512, num_classes),\n",
    "                                 nn.LogSoftmax(dim=1))\n",
    "criterion = nn.CrossEntropyLoss()\n",
    "optimizer = optim.Adam(model.fc.parameters(), lr=0.003)\n",
    "model.to(device)\n",
    "pass"
   ]
  },
  {
   "cell_type": "code",
   "execution_count": 6,
   "metadata": {
    "colab": {
     "base_uri": "https://localhost:8080/",
     "height": 468
    },
    "id": "ipFY9kHLadx0",
    "outputId": "c4b33a84-911a-4529-be56-1c34e7889937"
   },
   "outputs": [
    {
     "name": "stdout",
     "output_type": "stream",
     "text": [
      "Epoch 9 :\n",
      "\tLoss =  89.69997483491898 ; time: 4.400000333786011\n",
      "Epoch 19 :\n",
      "\tLoss =  89.60292428731918 ; time: 4.111000299453735\n",
      "Epoch 29 :\n",
      "\tLoss =  89.6296735405922 ; time: 4.27799916267395\n",
      "Epoch 39 :\n",
      "\tLoss =  89.60628199577332 ; time: 3.773998498916626\n",
      "Epoch 49 :\n",
      "\tLoss =  89.58229380846024 ; time: 3.59900164604187\n",
      "Average time per epoch: 4.133849358558654\n"
     ]
    },
    {
     "data": {
      "image/png": "[encoded data removed]",
      "text/plain": [
       "<Figure size 432x288 with 1 Axes>"
      ]
     },
     "metadata": {
      "needs_background": "light"
     },
     "output_type": "display_data"
    }
   ],
   "source": [
    "epochs = 50\n",
    "train_losses = []\n",
    "model.train()\n",
    "avg_time = 0\n",
    "for epoch in range(epochs):\n",
    "  start = time.time()\n",
    "  epoch_loss = 0\n",
    "  for images, labels, filenames in train_loader:\n",
    "    images = images.to(device)\n",
    "    labels = labels.to(device)\n",
    "\n",
    "    optimizer.zero_grad()\n",
    "    pred = model.forward(images)\n",
    "    loss = criterion(pred, labels)\n",
    "    loss.backward()\n",
    "    optimizer.step()\n",
    "\n",
    "    epoch_loss = epoch_loss + loss.item()\n",
    "  end = time.time()\n",
    "  epoch_time = end - start\n",
    "  avg_time = avg_time + epoch_time\n",
    "  if (epoch+1)%10 == 0:\n",
    "    print(\"Epoch\",epoch,\":\")\n",
    "    print(\"\\tLoss = \", epoch_loss,\"; time:\", epoch_time)\n",
    "  train_losses.append(epoch_loss)\n",
    "\n",
    "torch.save(model, 'images2emotions.pth')\n",
    "print(\"Average time per epoch:\", avg_time/epochs)\n",
    "\n",
    "plt.plot(np.log(train_losses))\n",
    "plt.title(\"Log Loss per epoch\")\n",
    "plt.show()"
   ]
  },
  {
   "cell_type": "code",
   "execution_count": 7,
   "metadata": {
    "colab": {
     "base_uri": "https://localhost:8080/"
    },
    "id": "5DuljoiChidO",
    "outputId": "dfa0930a-3c96-4dfa-ec97-6a6725e029b7"
   },
   "outputs": [
    {
     "name": "stdout",
     "output_type": "stream",
     "text": [
      "Class Accuracies:\n",
      "Positive : 0.0 % right\n",
      "Neutral : 0.0 % right\n",
      "Negative : 100.0 % right\n",
      "\n",
      "Total Accuracies:\n",
      "\t 36.666666666666664 % right\n"
     ]
    }
   ],
   "source": [
    "torch.load(\"images2emotions.pth\")\n",
    "model.eval()\n",
    "correct = {}\n",
    "total = {}\n",
    "for label in range(num_classes):\n",
    "    correct[label] = 0\n",
    "    total[label] = 0\n",
    "correct_num = 0\n",
    "total_num = 0\n",
    "    \n",
    "for images, labels, filenames in test_loader:\n",
    "  images = images.to(device)\n",
    "  labels = labels.to(device)\n",
    "  pred = model.forward(images)[0,:].detach().cpu().numpy()\n",
    "  guess = np.argmax(pred)\n",
    "  label = labels[0].item()\n",
    "  if guess == label:\n",
    "    correct[label] = correct[label] + 1\n",
    "    correct_num = correct_num + 1\n",
    "  total[label] = total[label] + 1\n",
    "  total_num = total_num + 1\n",
    "\n",
    "print(\"Class Accuracies:\")\n",
    "names = [\"Positive\", \"Neutral\", \"Negative\"]\n",
    "for label in range(num_classes):\n",
    "    print(names[label],\":\",correct[label]*100/total[label], \"% right\")\n",
    "print(\"\\nTotal Accuracies:\")\n",
    "print(\"\\t\",correct_num*100/total_num, \"% right\")"
   ]
  },
  {
   "cell_type": "code",
   "execution_count": null,
   "metadata": {
    "id": "OxWNy2uFxpu9"
   },
   "outputs": [],
   "source": []
  },
  {
   "cell_type": "code",
   "execution_count": null,
   "metadata": {},
   "outputs": [],
   "source": []
  }
 ],
 "metadata": {
  "colab": {
   "collapsed_sections": [],
   "name": "FER.ipynb",
   "provenance": []
  },
  "kernelspec": {
   "display_name": "Python 3",
   "language": "python",
   "name": "python3"
  },
  "language_info": {
   "codemirror_mode": {
    "name": "ipython",
    "version": 3
   },
   "file_extension": ".py",
   "mimetype": "text/x-python",
   "name": "python",
   "nbconvert_exporter": "python",
   "pygments_lexer": "ipython3",
   "version": "3.9.6"
  }
 },
 "nbformat": 4,
 "nbformat_minor": 4
}
