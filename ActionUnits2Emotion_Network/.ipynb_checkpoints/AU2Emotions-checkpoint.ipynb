{
 "cells": [
  {
   "cell_type": "code",
   "execution_count": 1,
   "id": "guilty-designation",
   "metadata": {},
   "outputs": [],
   "source": [
    "import torch\n",
    "import torch.nn as nn\n",
    "import numpy as np\n",
    "from PIL import Image\n",
    "from matplotlib import pyplot as plt\n",
    "import time"
   ]
  },
  {
   "cell_type": "code",
   "execution_count": 2,
   "id": "tired-nickel",
   "metadata": {},
   "outputs": [],
   "source": [
    "#convert the data into a format i like\n",
    "filename = \"../Creating_Action_Units/ActionUnitExtraction.csv\"\n",
    "with open(filename) as file:\n",
    "    thing = file.read()\n",
    "\n",
    "lines = [line for line in thing.split(\"\\n\") if len(line) > 0]\n",
    "header = [item for item in lines[0].split(\",\") if len(item) > 0]\n",
    "lines = lines[1:]\n",
    "\n",
    "D = []\n",
    "for line in lines:\n",
    "    items = [item for item in line.split(\",\") if len(item) > 0]\n",
    "    d = {}\n",
    "    for i in range(len(header)):\n",
    "        h = header[i]\n",
    "        if i < 38:\n",
    "            d[h] = float(items[i])\n",
    "        else:\n",
    "            d[h] = items[i]\n",
    "    D.append(d)"
   ]
  },
  {
   "cell_type": "code",
   "execution_count": 5,
   "id": "solved-monitor",
   "metadata": {},
   "outputs": [],
   "source": [
    "#some parameters\n",
    "all_emotions = False\n",
    "noise = False\n",
    "\n",
    "#['neutral', 'contempt', 'anger', 'sadness', 'disgust ', 'disgust', 'happiness', 'surprise', 'fear']\n",
    "good = [\"happiness\", \"surprise\"]\n",
    "neutral = [\"neutral\"]\n",
    "bad = [\"contempt\", \"anger\", \"sadness\", \"disgust\", \"fear\"]\n",
    "for d in D:\n",
    "    emotion = d['labels_AMY'].strip()\n",
    "    d['labels_AMY'] = emotion\n",
    "    if not all_emotions:\n",
    "        if emotion in good:\n",
    "            d['labels_AMY'] = \"good\"\n",
    "        elif emotion in neutral:\n",
    "            d['labels_AMY'] = \"neutral\"\n",
    "        elif emotion in bad:\n",
    "            d['labels_AMY'] = \"bad\""
   ]
  },
  {
   "cell_type": "code",
   "execution_count": 7,
   "id": "beginning-weight",
   "metadata": {},
   "outputs": [
    {
     "name": "stdout",
     "output_type": "stream",
     "text": [
      "Size training data: (140, 35)\n",
      "Size testing data: (30, 35)\n",
      "Size valid data: (30, 35)\n",
      "Size training label: (140,)\n",
      "Size testing label: (30,)\n",
      "Size valid label: (30,)\n"
     ]
    }
   ],
   "source": [
    "device = \"cuda\"\n",
    "#get specs\n",
    "N = len(D)\n",
    "AU_keys = [key for key in D[0].keys() if \"AU\" in key]\n",
    "AU_N = len(AU_keys)\n",
    "emotions = list(set([d['labels_AMY'] for d in D]))\n",
    "emotion_N = len(emotions)\n",
    "emotion_dict = {}\n",
    "for i in range(emotion_N):\n",
    "    emotion_dict[emotions[i]] = i\n",
    "\n",
    "train_N = int(N*.7)\n",
    "test_N = (N - train_N)//2\n",
    "valid_N = N - test_N - train_N\n",
    "\n",
    "idx = torch.randperm(N)\n",
    "train_idx = idx[0:train_N]\n",
    "test_idx = idx[train_N:-valid_N]\n",
    "valid_idx = idx[train_N + valid_N:]\n",
    "\n",
    "#format data\n",
    "data = torch.zeros((N, AU_N)).type(torch.float32).to(device) #200 by 35\n",
    "label = torch.zeros((N, 1)).type(torch.long).to(device) #200 by 1\n",
    "for i in range(N):\n",
    "    for j in range(AU_N):\n",
    "        data[i, j] = D[i][AU_keys[j]]\n",
    "    label[i, 0] = emotion_dict[D[i][\"labels_AMY\"]]\n",
    "\n",
    "#split into sets\n",
    "train_data = data[train_idx, :]\n",
    "test_data = data[test_idx, :]\n",
    "valid_data = data[valid_idx, :]\n",
    "train_label = label[train_idx, 0]\n",
    "test_label = label[test_idx, 0]\n",
    "valid_label = label[valid_idx, 0]\n",
    "\n",
    "print(\"Size training label:\", train_label.cpu().numpy().shape[0])\n",
    "print(\"Size testing label:\", test_label.cpu().numpy().shape[0])\n",
    "print(\"Size valid label:\", valid_label.cpu().numpy().shape[0])"
   ]
  },
  {
   "cell_type": "code",
   "execution_count": null,
   "id": "fuzzy-shanghai",
   "metadata": {},
   "outputs": [],
   "source": []
  }
 ],
 "metadata": {
  "kernelspec": {
   "display_name": "Python 3",
   "language": "python",
   "name": "python3"
  },
  "language_info": {
   "codemirror_mode": {
    "name": "ipython",
    "version": 3
   },
   "file_extension": ".py",
   "mimetype": "text/x-python",
   "name": "python",
   "nbconvert_exporter": "python",
   "pygments_lexer": "ipython3",
   "version": "3.9.6"
  }
 },
 "nbformat": 4,
 "nbformat_minor": 5
}
