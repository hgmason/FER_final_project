{
 "cells": [
  {
   "cell_type": "code",
   "execution_count": 1,
   "id": "collectible-warning",
   "metadata": {},
   "outputs": [],
   "source": [
    "import torch\n",
    "import torch.nn as nn\n",
    "import numpy as np\n",
    "from PIL import Image\n",
    "from matplotlib import pyplot as plt\n",
    "import time"
   ]
  },
  {
   "cell_type": "code",
   "execution_count": 2,
   "id": "demographic-cruise",
   "metadata": {},
   "outputs": [],
   "source": [
    "class MLP(nn.Module):\n",
    "    def __init__(self,architecture=[1,100,1],activation='sigmoid'):\n",
    "        super(MLP, self).__init__()      \n",
    "        self.architecture=architecture\n",
    "        if activation=='sigmoid':\n",
    "            self.activation=nn.Sigmoid()\n",
    "        elif activation=='relu':\n",
    "            self.activation=nn.ReLU()\n",
    "        else:\n",
    "            print('Activation not recognized! Using LeakyReLU instead.')\n",
    "            self.activation=nn.LeakyReLU()\n",
    "        arch=[]\n",
    "        for i in range(1,len(architecture)-1):\n",
    "            arch.append(nn.Linear(architecture[i-1],architecture[i]))            \n",
    "            arch.append(self.activation)\n",
    "        self.basis=nn.Sequential(*arch)\n",
    "        self.regressor=nn.Linear(architecture[-2],architecture[-1])\n",
    "\n",
    "    def forward(self,f):            \n",
    "        assert f.shape[1]==self.architecture[0]\n",
    "        z=self.basis(f)\n",
    "        out=self.regressor(z)\n",
    "        return out"
   ]
  },
  {
   "cell_type": "code",
   "execution_count": 3,
   "id": "increased-lexington",
   "metadata": {},
   "outputs": [],
   "source": [
    "#convert the data into a format i like\n",
    "filename = \"../Creating_Action_Units/ActionUnitExtraction.csv\"\n",
    "with open(filename) as file:\n",
    "    thing = file.read()\n",
    "\n",
    "lines = [line for line in thing.split(\"\\n\") if len(line) > 0]\n",
    "header = [item for item in lines[0].split(\",\") if len(item) > 0]\n",
    "lines = lines[1:]\n",
    "\n",
    "D = []\n",
    "for line in lines:\n",
    "    items = [item for item in line.split(\",\") if len(item) > 0]\n",
    "    d = {}\n",
    "    for i in range(len(header)):\n",
    "        h = header[i]\n",
    "        if i < 38:\n",
    "            d[h] = float(items[i])\n",
    "        else:\n",
    "            d[h] = items[i]\n",
    "    D.append(d)"
   ]
  },
  {
   "cell_type": "code",
   "execution_count": 4,
   "id": "different-alaska",
   "metadata": {},
   "outputs": [],
   "source": [
    "#some parameters\n",
    "all_emotions = False\n",
    "noise = False\n",
    "\n",
    "#['neutral', 'contempt', 'anger', 'sadness', 'disgust ', 'disgust', 'happiness', 'surprise', 'fear']\n",
    "good = [\"happiness\", \"surprise\"]\n",
    "neutral = [\"neutral\"]\n",
    "bad = [\"contempt\", \"anger\", \"sadness\", \"disgust\", \"fear\"]\n",
    "for d in D:\n",
    "    emotion = d['labels_AMY'].strip()\n",
    "    d['labels_AMY'] = emotion\n",
    "    if not all_emotions:\n",
    "        if emotion in good:\n",
    "            d['labels_AMY'] = \"good\"\n",
    "        elif emotion in neutral:\n",
    "            d['labels_AMY'] = \"neutral\"\n",
    "        elif emotion in bad:\n",
    "            d['labels_AMY'] = \"bad\""
   ]
  },
  {
   "cell_type": "code",
   "execution_count": 5,
   "id": "blind-solution",
   "metadata": {},
   "outputs": [
    {
     "name": "stdout",
     "output_type": "stream",
     "text": [
      "Size training set: 140\n",
      "Size testing set: 30\n",
      "Size valid set: 30\n"
     ]
    }
   ],
   "source": [
    "device = \"cuda\"\n",
    "#get specs\n",
    "N = len(D)\n",
    "AU_keys = [key for key in D[0].keys() if \"AU\" in key]\n",
    "AU_N = len(AU_keys)\n",
    "emotions = list(set([d['labels_AMY'] for d in D]))\n",
    "emotion_N = len(emotions)\n",
    "emotion_dict = {}\n",
    "for i in range(emotion_N):\n",
    "    emotion_dict[emotions[i]] = i\n",
    "\n",
    "train_N = int(N*.7)\n",
    "test_N = (N - train_N)//2\n",
    "valid_N = N - test_N - train_N\n",
    "\n",
    "idx = torch.randperm(N)\n",
    "train_idx = idx[0:train_N]\n",
    "test_idx = idx[train_N:-valid_N]\n",
    "valid_idx = idx[train_N + valid_N:]\n",
    "\n",
    "#format data\n",
    "data = torch.zeros((N, AU_N)).type(torch.float32).to(device) #200 by 35\n",
    "label = torch.zeros((N, 1)).type(torch.long).to(device) #200 by 1\n",
    "for i in range(N):\n",
    "    for j in range(AU_N):\n",
    "        data[i, j] = D[i][AU_keys[j]]\n",
    "    label[i, 0] = emotion_dict[D[i][\"labels_AMY\"]]\n",
    "\n",
    "#split into sets\n",
    "train_data = data[train_idx, :]\n",
    "test_data = data[test_idx, :]\n",
    "valid_data = data[valid_idx, :]\n",
    "train_label = label[train_idx, 0]\n",
    "test_label = label[test_idx, 0]\n",
    "valid_label = label[valid_idx, 0]\n",
    "\n",
    "print(\"Size training set:\", train_label.cpu().numpy().shape[0])\n",
    "print(\"Size testing set:\", test_label.cpu().numpy().shape[0])\n",
    "print(\"Size valid set:\", valid_label.cpu().numpy().shape[0])"
   ]
  },
  {
   "cell_type": "code",
   "execution_count": 6,
   "id": "global-christmas",
   "metadata": {},
   "outputs": [
    {
     "name": "stdout",
     "output_type": "stream",
     "text": [
      "all\n",
      "\t bad : 93 : 46.5 %\n",
      "\t good : 45 : 22.5 %\n",
      "\t neutral : 62 : 31.0 %\n",
      "train\n",
      "\t bad : 66 : 47.14 %\n",
      "\t good : 31 : 22.14 %\n",
      "\t neutral : 43 : 30.71 %\n",
      "valid\n",
      "\t bad : 13 : 43.33 %\n",
      "\t good : 8 : 26.67 %\n",
      "\t neutral : 9 : 30.0 %\n",
      "test\n",
      "\t bad : 14 : 46.67 %\n",
      "\t good : 6 : 20.0 %\n",
      "\t neutral : 10 : 33.33 %\n"
     ]
    }
   ],
   "source": [
    "#see how many of each emotion there are in each dataset\n",
    "n_dict = {}\n",
    "size_dict = {}\n",
    "for key in [\"all\",\"train\",\"valid\",\"test\"]:\n",
    "    n_dict[key] = {}\n",
    "    size_dict[key] = 0\n",
    "\n",
    "for i in range(len(emotions)):\n",
    "    train_n = train_label.cpu().numpy().tolist().count(i)\n",
    "    valid_n = valid_label.cpu().numpy().tolist().count(i)\n",
    "    test_n = test_label.cpu().numpy().tolist().count(i)\n",
    "    n_dict[\"train\"][emotions[i]] = train_n\n",
    "    n_dict[\"valid\"][emotions[i]] = valid_n\n",
    "    n_dict[\"test\"][emotions[i]] = test_n\n",
    "    n_dict[\"all\"][emotions[i]] = train_n + valid_n + test_n\n",
    "    size_dict[\"train\"] += train_n\n",
    "    size_dict[\"valid\"] += valid_n\n",
    "    size_dict[\"test\"] += test_n\n",
    "    size_dict[\"all\"] += train_n + valid_n + test_n\n",
    "\n",
    "for key in [\"all\",\"train\",\"valid\",\"test\"]:\n",
    "    print(key)\n",
    "    size = size_dict[key]\n",
    "    for emotion in emotions:\n",
    "        n = n_dict[key][emotion]\n",
    "        print(\"\\t\",emotion,\":\", n, \":\", round(100*n/size, 2), \"%\")"
   ]
  },
  {
   "cell_type": "code",
   "execution_count": 7,
   "id": "appreciated-calcium",
   "metadata": {},
   "outputs": [],
   "source": [
    "objective = torch.nn.CrossEntropyLoss()\n",
    "n_epochs = 10000\n",
    "lr = 0.005\n",
    "batch_size = 20\n",
    "batch_num = train_N//batch_size\n",
    "arch = [AU_N, 100, 50, emotion_N]\n",
    "#arch = [AU_N, 100, emotion_N]\n",
    "model = MLP(arch)\n",
    "model.to(device)\n",
    "optim=torch.optim.Adam(model.parameters(),lr=lr)"
   ]
  },
  {
   "cell_type": "code",
   "execution_count": 8,
   "id": "pointed-heather",
   "metadata": {},
   "outputs": [],
   "source": [
    "def transform(batch_data):\n",
    "    if noise:\n",
    "        batch_data = batch_data + torch.randn(batch_data.shape).to(device)*.2\n",
    "    return batch_data\n",
    "\n",
    "def accuracy(pred, label):\n",
    "    pred = pred.cpu().detach().numpy()\n",
    "    label = label.cpu().detach().numpy()\n",
    "    pred_label = np.argmax(pred, axis = 1)\n",
    "    return (label == pred_label).mean()"
   ]
  },
  {
   "cell_type": "code",
   "execution_count": 9,
   "id": "reliable-disabled",
   "metadata": {},
   "outputs": [
    {
     "name": "stdout",
     "output_type": "stream",
     "text": [
      "19.556997776031494 seconds\n"
     ]
    }
   ],
   "source": [
    "train_losses = []\n",
    "valid_losses = []\n",
    "\n",
    "start_time = time.time()\n",
    "for n in range(n_epochs):\n",
    "    #make batch\n",
    "    batch_idx = torch.randperm(train_N)[0:batch_size]\n",
    "    batch_data = train_data[batch_idx, :]\n",
    "    batch_data = transform(batch_data)\n",
    "    batch_label = train_label[batch_idx]\n",
    "    #make prediction\n",
    "    batch_pred = model(batch_data)\n",
    "    #get loss\n",
    "    train_loss = objective(batch_pred, batch_label)\n",
    "    train_losses.append(train_loss.item())\n",
    "    #optimizer step\n",
    "    optim.zero_grad()\n",
    "    train_loss.backward()\n",
    "    optim.step()\n",
    "    #do valid losses\n",
    "    with torch.no_grad():\n",
    "        valid_pred = model(valid_data)\n",
    "        valid_loss = objective(valid_pred, valid_label)\n",
    "        valid_losses.append(valid_loss.item())\n",
    "end_time = time.time()\n",
    "print(end_time - start_time, \"seconds\")"
   ]
  },
  {
   "cell_type": "code",
   "execution_count": 10,
   "id": "about-sandwich",
   "metadata": {},
   "outputs": [
    {
     "data": {
      "image/png": "[encoded data removed]",
      "text/plain": [
       "<Figure size 432x288 with 1 Axes>"
      ]
     },
     "metadata": {
      "needs_background": "light"
     },
     "output_type": "display_data"
    },
    {
     "name": "stdout",
     "output_type": "stream",
     "text": [
      "Architecture: [35, 100, 50, 3]\n",
      "Num emotions: 3\n",
      "train accuracy: 1.0\n",
      "valid accuracy: 0.5666666666666667\n",
      "test accuracy: 0.4666666666666667\n",
      "Num epochs: 10000\n",
      "Batch size: 20\n",
      "Noise added: False\n"
     ]
    }
   ],
   "source": [
    "plt.plot(np.log(train_losses))\n",
    "plt.plot(np.log(valid_losses))\n",
    "plt.title(\"log loss\")\n",
    "plt.legend([\"train\", \"valid\"])\n",
    "plt.show()\n",
    "\n",
    "with torch.no_grad():\n",
    "    train_pred = model(train_data)\n",
    "    test_pred = model(test_data)\n",
    "\n",
    "print(\"Architecture:\", arch)\n",
    "print(\"Num emotions:\", emotion_N)\n",
    "print(\"train accuracy:\",accuracy(train_pred, train_label))\n",
    "print(\"valid accuracy:\",accuracy(valid_pred, valid_label))\n",
    "print(\"test accuracy:\",accuracy(test_pred, test_label))\n",
    "print(\"Num epochs:\", n_epochs)\n",
    "print(\"Batch size:\", batch_size)\n",
    "print(\"Noise added:\", noise)"
   ]
  },
  {
   "cell_type": "code",
   "execution_count": null,
   "id": "seventh-rochester",
   "metadata": {},
   "outputs": [],
   "source": []
  }
 ],
 "metadata": {
  "kernelspec": {
   "display_name": "Python 3",
   "language": "python",
   "name": "python3"
  },
  "language_info": {
   "codemirror_mode": {
    "name": "ipython",
    "version": 3
   },
   "file_extension": ".py",
   "mimetype": "text/x-python",
   "name": "python",
   "nbconvert_exporter": "python",
   "pygments_lexer": "ipython3",
   "version": "3.9.6"
  }
 },
 "nbformat": 4,
 "nbformat_minor": 5
}
